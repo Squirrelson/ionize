{
 "cells": [
  {
   "cell_type": "markdown",
   "metadata": {},
   "source": [
    "Ion Interaction\n",
    "========\n",
    "Ion interaction effects are important for correcting the mobility of ions based on the ionic strength of solution. These effects are laid out in the *Irreversible Processes in Electrohoresis*, by Onsager and Fuoss. \n",
    "\n",
    "These effects have prefactors that need to be converted to appropriate units for use. Here, I'm going to resolve the units on these prefactors, and resolve the differences between the paper and the STEEP implimentation.\n"
   ]
  },
  {
   "cell_type": "code",
   "execution_count": 1,
   "metadata": {
    "collapsed": true
   },
   "outputs": [],
   "source": [
    "# imports\n",
    "from ionize import Aqueous\n",
    "from math import sqrt, pi\n",
    "import pint\n",
    "ur = pint.UnitRegistry()\n",
    "Q = ur.Quantity"
   ]
  },
  {
   "cell_type": "code",
   "execution_count": 2,
   "metadata": {
    "collapsed": false
   },
   "outputs": [],
   "source": [
    "# define values\n",
    "temperature = Q(25, 'degC')\n",
    "e = ur.elementary_charge\n",
    "kb = ur.boltzmann_constant\n",
    "dielectric = Aqueous.dielectric(temperature.magnitude)\n",
    "viscosity = Aqueous.viscosity(temperature.magnitude) * ur.pascal * ur.second\n",
    "Na = ur.avogadro_number\n",
    "eps = ur.vacuum_permittivity"
   ]
  },
  {
   "cell_type": "markdown",
   "metadata": {},
   "source": [
    "Robinson-Stokes\n",
    "---------------"
   ]
  },
  {
   "cell_type": "code",
   "execution_count": 3,
   "metadata": {
    "collapsed": false
   },
   "outputs": [
    {
     "name": "stdout",
     "output_type": "stream",
     "text": [
      "568877142.2930058 kelvin ** 1.5 3.7840592709102225e-08 kelvin ** 0.5 * pascal * second\n"
     ]
    }
   ],
   "source": [
    "# STEEP: F*0.2297*z.*omega+31.410e-9\n",
    "coefficient_1 = 0.2297 * ((temperature.to('degK'))**.5*dielectric)**3.\n",
    "coefficient_2 = 31.410e-9 * viscosity * (temperature.to('degK')**.5*dielectric)\n",
    "\n",
    "print(coefficient_1, coefficient_2)"
   ]
  },
  {
   "cell_type": "markdown",
   "metadata": {},
   "source": [
    "Onsager-Fuoss\n",
    "------------\n",
    "The Onsager-Fuoss constants A and B."
   ]
  },
  {
   "cell_type": "code",
   "execution_count": 33,
   "metadata": {
    "collapsed": false
   },
   "outputs": [
    {
     "name": "stdout",
     "output_type": "stream",
     "text": [
      "[A] = [length] ** 1.5 / [substance] ** 0.5\n",
      "A = 0.5547184792860854 liter ** 0.5 / mole ** 0.5\n"
     ]
    }
   ],
   "source": [
    "# Bhaga Paper\n",
    "A = e**3 / 12 / pi \n",
    "A *= (Na / (dielectric * eps * kb * temperature.to('degK'))**3)**.5\n",
    "print('[A] =', A.dimensionality)\n",
    "print('A =', A.to('liter^.5/mol^.5'))"
   ]
  },
  {
   "cell_type": "code",
   "execution_count": 35,
   "metadata": {
    "collapsed": false
   },
   "outputs": [
    {
     "name": "stdout",
     "output_type": "stream",
     "text": [
      "[B] = [current] * [length] ** 1.5 * [time] ** 2 / [mass] / [substance] ** 0.5\n",
      "B = 2.220870818024751e-08 liter ** 0.5 * meter ** 2 / mole ** 0.5 / second / volt\n"
     ]
    }
   ],
   "source": [
    "B = e**2 / 6 / pi / viscosity \n",
    "B *= (Na / (dielectric * eps * kb * temperature.to('degK')))**.5\n",
    "print('[B] =', B.dimensionality)\n",
    "print('B =', B.to('m^2/V/s* liter^.5/mol^.5'))"
   ]
  },
  {
   "cell_type": "markdown",
   "metadata": {},
   "source": [
    "### Temperature-dependant values\n",
    "Below are values that only include temperature independant versions. \n",
    "\n",
    "A = Ap / dielectric^1.5 / temperature^1.5\n",
    "\n",
    "B = Bp x viscosity / dielectric^.5 / temperature^.5"
   ]
  },
  {
   "cell_type": "code",
   "execution_count": 7,
   "metadata": {
    "collapsed": false
   },
   "outputs": [
    {
     "name": "stdout",
     "output_type": "stream",
     "text": [
      "[length] ** 1.5 * [temperature] ** 1.5 / [substance] ** 0.5\n",
      "1980740.0746911524 kelvin ** 1.5 * liter ** 0.5 / mole ** 0.5\n"
     ]
    }
   ],
   "source": [
    "Ap = e**3 / 12 / pi \n",
    "Ap *= (Na / (eps * kb)**3)**.5\n",
    "print(Ap.dimensionality)\n",
    "print(Ap.to('liter^.5*degK^1.5/mol^.5'))"
   ]
  },
  {
   "cell_type": "code",
   "execution_count": 5,
   "metadata": {
    "collapsed": false
   },
   "outputs": [
    {
     "name": "stdout",
     "output_type": "stream",
     "text": [
      "[current] * [length] ** 0.5 * [temperature] ** 0.5 * [time] / [substance] ** 0.5\n",
      "3.0225888785873703e-09 kelvin ** 0.5 * liter ** 0.5 * meter ** 2 * pascal / mole ** 0.5 / volt\n"
     ]
    }
   ],
   "source": [
    "Bp = e**2 / 6 / pi \n",
    "Bp *= (Na / (eps * kb))**.5\n",
    "print(Bp.dimensionality)\n",
    "print(Bp.to('m^2/V/s* liter^.5/mol^.5 * Pa * s * degK**.5'))"
   ]
  },
  {
   "cell_type": "code",
   "execution_count": 8,
   "metadata": {
    "collapsed": true
   },
   "outputs": [],
   "source": [
    "# TODO: check steep and spresso implementation\n",
    "# also check onsager-fuoss paper"
   ]
  },
  {
   "cell_type": "markdown",
   "metadata": {},
   "source": [
    "Pitts\n",
    "-----"
   ]
  },
  {
   "cell_type": "code",
   "execution_count": 26,
   "metadata": {
    "collapsed": false
   },
   "outputs": [
    {
     "name": "stdout",
     "output_type": "stream",
     "text": [
      "[length] ** 0.5 / [substance] ** 0.5\n"
     ]
    },
    {
     "data": {
      "text/html": [
       "0.9610960030607913 micrometer"
      ],
      "text/latex": [
       "$0.9610960030607913 micrometer$"
      ],
      "text/plain": [
       "<Quantity(0.9610960030607913, 'micrometer')>"
      ]
     },
     "execution_count": 26,
     "metadata": {},
     "output_type": "execute_result"
    }
   ],
   "source": [
    "D = (2 * e ** 2 * Na/ dielectric / eps / kb / temperature.to('degK'))**.5\n",
    "print(D.dimensionality)\n",
    "(D).to('m^.5/mol^.5')\n",
    "(1/D / Q('(1e-7 mol/L)^.5')).to('um')"
   ]
  },
  {
   "cell_type": "code",
   "execution_count": 28,
   "metadata": {
    "collapsed": false
   },
   "outputs": [
    {
     "name": "stdout",
     "output_type": "stream",
     "text": [
      "[length] ** 0.5 * [temperature] ** 0.5 / [substance] ** 0.5\n"
     ]
    }
   ],
   "source": [
    "Dp = (2 * e ** 2 * Na / eps / kb)**.5\n",
    "print(Dp.dimensionality)\n",
    "Dp.to(())"
   ]
  },
  {
   "cell_type": "code",
   "execution_count": null,
   "metadata": {
    "collapsed": true
   },
   "outputs": [],
   "source": []
  }
 ],
 "metadata": {
  "kernelspec": {
   "display_name": "Python 3",
   "language": "python",
   "name": "python3"
  },
  "language_info": {
   "codemirror_mode": {
    "name": "ipython",
    "version": 3
   },
   "file_extension": ".py",
   "mimetype": "text/x-python",
   "name": "python",
   "nbconvert_exporter": "python",
   "pygments_lexer": "ipython3",
   "version": "3.5.1"
  }
 },
 "nbformat": 4,
 "nbformat_minor": 0
}
