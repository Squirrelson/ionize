{
 "metadata": {
  "name": "",
  "signature": "sha256:2774837badf052761da107e406460aa54ee36a162eb098c5d75998d751a662ba"
 },
 "nbformat": 3,
 "nbformat_minor": 0,
 "worksheets": [
  {
   "cells": [
    {
     "cell_type": "markdown",
     "metadata": {},
     "source": [
      "ionize Tutorial\n",
      "==============="
     ]
    },
    {
     "cell_type": "markdown",
     "metadata": {},
     "source": [
      "**ionize** is a Python module for calculating the properties of ions in aqueous solution. \n",
      "\n",
      "To load the library, simply import **ionize**."
     ]
    },
    {
     "cell_type": "code",
     "collapsed": false,
     "input": [
      "import ionize\n",
      "\n",
      "# We'll also import numpy to set up some of our inputs. \n",
      "import numpy"
     ],
     "language": "python",
     "metadata": {},
     "outputs": [],
     "prompt_number": 1
    },
    {
     "cell_type": "markdown",
     "metadata": {},
     "source": [
      "Ion\n",
      "----\n",
      "The basic building block of an **ionize** simulation is an ionic species, modeled by the **Ion** class. Call **ionize**.**Ion**(*name*, *z*, *pKa*, *absolute_mobility*). *name* is the name of the ion, typically as a string. *z* is a list containing the charge states of the ion. *pKa* is a list of the pKas of the charge states, with the same order as the list *z*. *absolute_mobility* is a list containing the absolute, infinite dilution mobilities of each charge state, ordered the same as the other two lists, in units of m<sup>2</sup>V<sup>-1</sup>s<sup>-1</sup>."
     ]
    },
    {
     "cell_type": "code",
     "collapsed": false,
     "input": [
      "# Initialize an ion and print it. \n",
      "acid = ionize.Ion('myAcid', [-1], [5], [-25e-9])\n",
      "base = ionize.Ion('myBase', [1], [8], [20e-9])\n",
      "print acid\n",
      "print base"
     ],
     "language": "python",
     "metadata": {},
     "outputs": [
      {
       "output_type": "stream",
       "stream": "stdout",
       "text": [
        "Ion object -- myAcid: {-1: (5, -2.5e-08)}\n",
        "Ion object -- myBase: {1: (8, 2e-08)}\n"
       ]
      }
     ],
     "prompt_number": 2
    },
    {
     "cell_type": "markdown",
     "metadata": {},
     "source": [
      "Once an ion species is initialized, you can call the properties of the ion, typically as a function of pH and ionic strength. "
     ]
    },
    {
     "cell_type": "code",
     "collapsed": false,
     "input": [
      "print 'myAcid Ka at (I=0 M) =', acid.Ka()\n",
      "print 'myAcid Ka at (I=0.5 M) =', acid.Ka_eff(I=0.5)\n",
      "\n",
      "pH = numpy.linspace(0,14, 60)\n",
      "\n",
      "for I in [0, 0.1, 1]:\n",
      "    mu = [base.effective_mobility(p, I) for p in pH]\n",
      "    plt.plot(pH, mu, label='I=' + str(I) + 'M')\n",
      "\n",
      "xlabel('pH'); xlim(0, 14)\n",
      "ylabel('effective mobility (m^2/v/s)'); ylim(-.1e-8, 2.1e-8)\n",
      "legend()\n",
      "show()"
     ],
     "language": "python",
     "metadata": {},
     "outputs": [
      {
       "output_type": "stream",
       "stream": "stdout",
       "text": [
        "myAcid Ka at (I=0 M) = [1e-05]\n",
        "myAcid Ka at (I=0.5 M) = [1.77887701588421e-05]\n"
       ]
      },
      {
       "metadata": {},
       "output_type": "display_data",
       "png": "[encoded data removed]",
       "text": [
        "<matplotlib.figure.Figure at 0x1066ce710>"
       ]
      }
     ],
     "prompt_number": 3
    },
    {
     "cell_type": "markdown",
     "metadata": {},
     "source": [
      "##Using the **ionize** database\n",
      "\n",
      "###load_ion()\n",
      "Individually initializing ions is error-prone and time-consuming. To simplify the process, load ionic species from a database using the **load_ion** function. Call **ionize**.**load_ion**(*name*), where *name* is the case-insensitive full name of an ionic species. The function returns an Ion object, or *None* if the object is not available. "
     ]
    },
    {
     "cell_type": "code",
     "collapsed": false,
     "input": [
      "print 'Returns', ionize.load_ion('ion not in database'), 'if not in database'\n",
      "\n",
      "histidine = ionize.load_ion('histidine')\n",
      "print histidine\n",
      "\n",
      "mu_histidine = [histidine.effective_mobility(p) for p in pH]\n",
      "\n",
      "plot(pH, mu_histidine)\n",
      "xlabel('pH'); xlim([0, 14])\n",
      "ylabel('effective mobility (m^2/v/s)')\n",
      "plt.show()"
     ],
     "language": "python",
     "metadata": {},
     "outputs": [
      {
       "output_type": "stream",
       "stream": "stdout",
       "text": [
        "Returns None if not in database\n",
        "Ion object -- histidine: {1: (6.04, 2.8800000000000003e-08), 2: (2.0, 4.47e-08), -1: (9.33, -2.8300000000000002e-08)}\n"
       ]
      },
      {
       "output_type": "stream",
       "stream": "stderr",
       "text": [
        "ionize/load_ion.py:38: UserWarning: Ion not found in database. Returning None.\n",
        "  warnings.warn('Ion not found in database. Returning None.')\n"
       ]
      },
      {
       "metadata": {},
       "output_type": "display_data",
       "png": "[encoded data removed]",
       "text": [
        "<matplotlib.figure.Figure at 0x106a6e550>"
       ]
      }
     ],
     "prompt_number": 4
    },
    {
     "cell_type": "markdown",
     "metadata": {},
     "source": [
      "###search_ion()\n",
      "\n",
      "You can also search for ions in the database by name using **search_ion()**. Call it by specifying a *search_string*. **search_ion()** will print the names of all ions that contain the *search_string*. **search_ion** will not return any results, so call **load_ion** when you find what you want. "
     ]
    },
    {
     "cell_type": "code",
     "collapsed": false,
     "input": [
      "print \"Search results for 'amino'\\n--------------------------\"\n",
      "ionize.search_ion('amino')\n",
      "print \"\\nSearch results for 'chloric'\\n---------------------------\"\n",
      "ionize.search_ion('chloric')\n",
      "print \"\\nSearch results for 'per'\\n------------------------\"\n",
      "ionize.search_ion('per')\n",
      "print '\\nOh, copper is what I was looking for.'\n",
      "print ionize.load_ion('copper')"
     ],
     "language": "python",
     "metadata": {},
     "outputs": [
      {
       "output_type": "stream",
       "stream": "stdout",
       "text": [
        "Search results for 'amino'\n",
        "--------------------------\n",
        "2-amino-2-methyl-1-propanol\n",
        "e-aminocaproic acid\n",
        "o-aminobenzoic acid\n",
        "p-aminobenzoic acid\n",
        "\n",
        "Search results for 'chloric'\n",
        "---------------------------\n",
        "chloric acid\n",
        "hydrochloric acid\n",
        "perchloric acid\n",
        "\n",
        "Search results for 'per'\n",
        "------------------------\n",
        "copper\n",
        "diperodone\n",
        "perchloric acid\n",
        "periodic acid\n",
        "permanganic acid\n",
        "peroxysulfuric acid\n",
        "perrhenic acid\n",
        "piperidine\n",
        "\n",
        "Oh, copper is what I was looking for.\n",
        "Ion object -- copper: {1: (8.5, 3.23e-08), 2: (7.3, 5.560000000000001e-08)}\n"
       ]
      }
     ],
     "prompt_number": 5
    },
    {
     "cell_type": "markdown",
     "metadata": {},
     "source": [
      "###get_db()\n",
      "You can also directly call the database used by both **load_ion** and **search_ion** using **get_db**. This returns the database as a shelve object, which is accessed using the same methods as a dictionary. Remember to close the shelve after using it. "
     ]
    },
    {
     "cell_type": "code",
     "collapsed": false,
     "input": [
      "    ion_list = ionize.get_db()\n",
      "    print len(ion_list), 'ions in database.'\n",
      "    ion_list.close()"
     ],
     "language": "python",
     "metadata": {},
     "outputs": [
      {
       "output_type": "stream",
       "stream": "stdout",
       "text": [
        "508 ions in database.\n"
       ]
      }
     ],
     "prompt_number": 6
    },
    {
     "cell_type": "markdown",
     "metadata": {},
     "source": [
      "Solution\n",
      "--------\n",
      "Getting the properties of a single ionic species in solution is useful, but the real challenge of dealing with aqueous solutions of ions is finding properties based on the equilibrium state of multiple ionic species. **ionize** can perform those calculations using the **Solution** class. **Solution** objects are initialized using **ionize**.**Solution**(*ions*, *concentrations*), where ions is a list of **Ion** objects and concentration is a list concentrations of the ions, with concentrations in molar."
     ]
    },
    {
     "cell_type": "code",
     "collapsed": false,
     "input": [
      "hcl=ionize.load_ion('hydrochloric acid')\n",
      "tris=ionize.load_ion('tris')\n",
      "buffer=ionize.Solution([tris, hcl], [0.1, 0.085])\n",
      "\n",
      "print 'pH =', buffer.pH\n",
      "print 'I =', buffer.I, 'M'\n",
      "print 'conductivity =', buffer.conductivity(), 'S/m'\n",
      "print 'buffering capacity =', buffer.buffering_capacity(), 'M'"
     ],
     "language": "python",
     "metadata": {},
     "outputs": [
      {
       "output_type": "stream",
       "stream": "stdout",
       "text": [
        "pH = 7.41765241942\n",
        "I = 0.0850003606676 M\n",
        "conductivity = 0.669136768678 S/m\n",
        "buffering capacity = 0.0295698032223 M\n"
       ]
      }
     ],
     "prompt_number": 7
    },
    {
     "cell_type": "markdown",
     "metadata": {},
     "source": [
      "We can iterate through solutions to quickly calculate the pH of a titration between two ions"
     ]
    },
    {
     "cell_type": "code",
     "collapsed": false,
     "input": [
      "c_tris = 0.1\n",
      "c_hcl = numpy.linspace(0.0, 0.2, 50)\n",
      "t_pH = [ionize.Solution([tris, hcl], [c_tris, c_h], T=25).pH for c_h in c_hcl]\n",
      "\n",
      "plt.plot(c_hcl/c_tris, t_pH)\n",
      "plt.xlabel('[HCl]/[Tris]')\n",
      "plt.ylabel('pH')\n",
      "plt.show()"
     ],
     "language": "python",
     "metadata": {},
     "outputs": [
      {
       "metadata": {},
       "output_type": "display_data",
       "png": "[encoded data removed]",
       "text": [
        "<matplotlib.figure.Figure at 0x106a34790>"
       ]
      }
     ],
     "prompt_number": 8
    },
    {
     "cell_type": "markdown",
     "metadata": {},
     "source": [
      "A **Solution** can also be initialized without ions, e.g. as water. "
     ]
    },
    {
     "cell_type": "code",
     "collapsed": false,
     "input": [
      "water = ionize.Solution()\n",
      "print 'I =', water.I, 'M'\n",
      "print 'pH =', water.pH\n",
      "print 'conductivity =', water.conductivity(), 'S/m'"
     ],
     "language": "python",
     "metadata": {},
     "outputs": [
      {
       "output_type": "stream",
       "stream": "stdout",
       "text": [
        "I = 1e-07 M\n",
        "pH = 7.0\n",
        "conductivity = 5.47207623603e-06 S/m\n"
       ]
      }
     ],
     "prompt_number": 9
    },
    {
     "cell_type": "markdown",
     "metadata": {},
     "source": [
      "A **Solution** can also be added and multiplied through operator overloading. This can be useful when calculating the results of diltuions, as below. "
     ]
    },
    {
     "cell_type": "code",
     "collapsed": false,
     "input": [
      "print 'Stock:', buffer\n",
      "dilution = 0.5 * buffer + 0.5 * water\n",
      "print 'Dilution:', dilution\n"
     ],
     "language": "python",
     "metadata": {},
     "outputs": [
      {
       "output_type": "stream",
       "stream": "stdout",
       "text": [
        "Stock: Solution object -- pH = 7.41765241942, I = 0.0850003606676 M\n",
        "Dilution: Solution object -- pH = 7.39874288839, I = 0.0425003231562 M\n"
       ]
      }
     ],
     "prompt_number": 10
    },
    {
     "cell_type": "markdown",
     "metadata": {},
     "source": [
      "Temperature Effects\n",
      "-------------------\n",
      "Both **Ion** objects and **Solution** objects take T as an optional argument for temperature. Temperature should be specified in degrees C. \n",
      "\n",
      "**Ion** objects adjust their absolute mobility and pKa attributes based on temperature. They also make adjustments to their ionic strength correction algorithms based on temperature. The type of temperature adjustment data depends on the specific ion. For small ions, emperical data from literature is included. For organic molecules, &Delta;H and &Delta;Cp values may be provided. All ions also correct their mobilities for viscosity. "
     ]
    },
    {
     "cell_type": "code",
     "collapsed": false,
     "input": [
      "silver = ionize.load_ion('silver')\n",
      "tris = ionize.load_ion('tris').set_T(50)\n",
      "T = numpy.linspace(20.0, 80.0)\n",
      "mu_silver = [silver.set_T(Tp).absolute_mobility for Tp in T]\n",
      "mu_tris = [tris.set_T(Tp).absolute_mobility for Tp in T]\n",
      "pKa_silver = [silver.set_T(Tp).pKa for Tp in T]\n",
      "pKa_tris = [tris.set_T(Tp).pKa for Tp in T]\n",
      "\n",
      "figure()\n",
      "plot(T, mu_silver, label = 'Silver')\n",
      "plot(T, mu_tris, label = 'Tris')\n",
      "legend(loc = 'upper left')\n",
      "xlabel('Temperature ($^{\\circ}$C)'); ylabel('Absolute mobility ($m^2V^{-1}s^{-1}$)')\n",
      "show()\n",
      "figure()\n",
      "plot(T, pKa_silver, label = 'Silver')\n",
      "plot(T, pKa_tris, label = 'Tris')\n",
      "legend(loc = 'lower left')\n",
      "xlabel('Temperature ($^{\\circ}$C)'); ylabel('pKa')\n",
      "show()"
     ],
     "language": "python",
     "metadata": {},
     "outputs": [
      {
       "output_type": "stream",
       "stream": "stderr",
       "text": [
        "ionize/Ion/correct_pKa.py:20: UserWarning: No data available to correct pKa for temperature.\n",
        "  warnings.warn('No data available to correct pKa for temperature.')\n"
       ]
      },
      {
       "metadata": {},
       "output_type": "display_data",
       "png": "[encoded data removed]",
       "text": [
        "<matplotlib.figure.Figure at 0x106a450d0>"
       ]
      },
      {
       "metadata": {},
       "output_type": "display_data",
       "png": "[encoded data removed]",
       "text": [
        "<matplotlib.figure.Figure at 0x106c5e950>"
       ]
      }
     ],
     "prompt_number": 11
    },
    {
     "cell_type": "markdown",
     "metadata": {},
     "source": [
      "**Solution** objects send their temperature correction parameters to the object that they contain. In addition, they use the temperature input to correct their ionic strength correction parameters. "
     ]
    },
    {
     "cell_type": "code",
     "collapsed": false,
     "input": [
      "tris = ionize.load_ion('tris')\n",
      "hcl = ionize.load_ion('hydrochloric acid')\n",
      "buffer_ref = ionize.Solution([tris, hcl], [.200, .100], T=25)\n",
      "mu_ref = buffer_ref.ions[1].effective_mobility()\n",
      "mup = []\n",
      "pH = []\n",
      "I = []\n",
      "mu=[]\n",
      "for Tp in T:\n",
      "    buffer = ionize.Solution([tris, hcl], [.200, .100], T=Tp)\n",
      "    mu.append(buffer.ions[1].effective_mobility())\n",
      "    mup.append(buffer.ions[1].effective_mobility()/mu_ref)\n",
      "    pH.append(buffer.pH)\n",
      "    I.append(buffer.I)\n",
      "#     mup.append(hcl.nightingale_function(Tp))\n",
      "figure()\n",
      "plot(T, pH); xlabel('Temperature ($^{\\circ}$C)'); ylabel('pH')\n",
      "show()\n",
      "\n",
      "figure()\n",
      "plot(T, mup, label='chloride'); xlabel('Temperature ($^{\\circ}$C)'); ylabel('$\\mu$(T)/$\\mu$(T$_o$)'); legend(loc='upper left')\n",
      "show()"
     ],
     "language": "python",
     "metadata": {},
     "outputs": [
      {
       "output_type": "stream",
       "stream": "stderr",
       "text": [
        "ionize/Ion/correct_pKa.py:28: UserWarning: Using the van't Hoff correction for dT > 20 deg.\n",
        "  warnings.warn('Using the van\\'t Hoff correction for dT > 20 deg.')\n"
       ]
      },
      {
       "metadata": {},
       "output_type": "display_data",
       "png": "[encoded data removed]",
       "text": [
        "<matplotlib.figure.Figure at 0x106b8f2d0>"
       ]
      },
      {
       "metadata": {},
       "output_type": "display_data",
       "png": "[encoded data removed]",
       "text": [
        "<matplotlib.figure.Figure at 0x106bd6a90>"
       ]
      }
     ],
     "prompt_number": 12
    },
    {
     "cell_type": "markdown",
     "metadata": {},
     "source": [
      "Other Functions \n",
      "----------------\n",
      "**ionize** includes a few other functions that it uses internally to calculate corrections.\n",
      "###viscosity()\n",
      "Call **ionize**.**viscosity**(T) to find the viscosity of water at a given temperature. "
     ]
    },
    {
     "cell_type": "code",
     "collapsed": false,
     "input": [
      "v = [ionize.viscosity(t) for t in T]\n",
      "plot(T,v); show()"
     ],
     "language": "python",
     "metadata": {},
     "outputs": [
      {
       "metadata": {},
       "output_type": "display_data",
       "png": "[encoded data removed]",
       "text": [
        "<matplotlib.figure.Figure at 0x106d5e450>"
       ]
      }
     ],
     "prompt_number": 13
    },
    {
     "cell_type": "markdown",
     "metadata": {},
     "source": [
      "###dielectric()\n",
      "Call **ionize**.**dielectric**(T) to find the dielectric constant of water at a given temperature."
     ]
    },
    {
     "cell_type": "code",
     "collapsed": false,
     "input": [
      "d = [ionize.dielectric(t) for t in T]\n",
      "plot(T,d); show()"
     ],
     "language": "python",
     "metadata": {},
     "outputs": [
      {
       "metadata": {},
       "output_type": "display_data",
       "png": "[encoded data removed]",
       "text": [
        "<matplotlib.figure.Figure at 0x104874490>"
       ]
      }
     ],
     "prompt_number": 14
    },
    {
     "cell_type": "markdown",
     "metadata": {},
     "source": [
      "Conservation Functions\n",
      "--------------------\n",
      "Conservation functions are spatially invariant quantities that remain constant as a solution undergoes electrophoresis. They are useful in calculating ion concentrations in zones formed during electrophoresis. \n",
      "\n",
      "###The Kohlrausch Regulating Function (KRF)\n",
      "The most basic conservation function is the KRF. This function is only valid for strongly ionized species, when water dissociation doesn't play a strong role. Solutions can calculate their own KRF values. They throw a warning if they contain species that are not strongly ionized."
     ]
    },
    {
     "cell_type": "code",
     "collapsed": false,
     "input": [
      "sodium = ionize.load_ion('sodium')\n",
      "saltwater = ionize.Solution([sodium, hcl], [0.1, 0.1])\n",
      "print saltwater.kohlrausch()"
     ],
     "language": "python",
     "metadata": {},
     "outputs": [
      {
       "output_type": "stream",
       "stream": "stdout",
       "text": [
        "1005514083.12\n"
       ]
      }
     ],
     "prompt_number": 15
    },
    {
     "cell_type": "code",
     "collapsed": false,
     "input": [
      "print buffer_ref.ions\n",
      "print buffer_ref.kohlrausch()"
     ],
     "language": "python",
     "metadata": {},
     "outputs": [
      {
       "output_type": "stream",
       "stream": "stdout",
       "text": [
        "[Ion object -- tris: {1: (8.076, 2.9500000000000003e-08)}, Ion object -- hydrochloric acid: {-1: (-2.0, -7.91e-08)}]\n",
        "9086156314.76\n"
       ]
      },
      {
       "output_type": "stream",
       "stream": "stderr",
       "text": [
        "ionize/Solution/conservation.py:17: UserWarning: ions are not fully ionized. KRF is a poor approx.\n",
        "  warnings.warn('ions are not fully ionized. KRF is a poor approx.')\n"
       ]
      }
     ],
     "prompt_number": 16
    },
    {
     "cell_type": "markdown",
     "metadata": {},
     "source": [
      "###The Alberty Conservation Function\n",
      "\n",
      "The Alberty conservation function is useful for weakly ionized monovalent species, when water dissocation doesn't play a strong role. "
     ]
    },
    {
     "cell_type": "code",
     "collapsed": false,
     "input": [
      "caproic = ionize.load_ion('caproic acid')\n",
      "print caproic\n",
      "tcap = ionize.Solution([tris, caproic], [0.1, 0.05])\n",
      "print tcap.alberty()\n"
     ],
     "language": "python",
     "metadata": {},
     "outputs": [
      {
       "output_type": "stream",
       "stream": "stdout",
       "text": [
        "Ion object -- caproic acid: {-1: (4.857, -3.02e-08)}\n",
        "7060004947.63\n"
       ]
      }
     ],
     "prompt_number": 17
    },
    {
     "cell_type": "code",
     "collapsed": false,
     "input": [
      "citric = ionize.load_ion('citric acid')\n",
      "tcit = ionize.Solution([tris, citric], [0.1, 0.05])\n",
      "print tcit.alberty()"
     ],
     "language": "python",
     "metadata": {},
     "outputs": [
      {
       "output_type": "stream",
       "stream": "stdout",
       "text": [
        "10629568638.5\n"
       ]
      },
      {
       "output_type": "stream",
       "stream": "stderr",
       "text": [
        "ionize/Solution/conservation.py:36: UserWarning: Ion not in single valance. Alberty invalid.\n",
        "  warnings.warn('Ion not in single valance. Alberty invalid.')\n"
       ]
      }
     ],
     "prompt_number": 18
    },
    {
     "cell_type": "markdown",
     "metadata": {},
     "source": [
      "###The Jovin Conservation Function\n",
      "\n",
      "The Jovin conservation function is applicable under the same conditions that the Alberty conservation function is. It is often used as a compliment."
     ]
    },
    {
     "cell_type": "code",
     "collapsed": false,
     "input": [
      "print tcap.jovin()"
     ],
     "language": "python",
     "metadata": {},
     "outputs": [
      {
       "output_type": "stream",
       "stream": "stdout",
       "text": [
        "0.05\n"
       ]
      }
     ],
     "prompt_number": 20
    },
    {
     "cell_type": "code",
     "collapsed": false,
     "input": [
      "print tcit.jovin()"
     ],
     "language": "python",
     "metadata": {},
     "outputs": [
      {
       "output_type": "stream",
       "stream": "stdout",
       "text": [
        "-99.9\n"
       ]
      },
      {
       "output_type": "stream",
       "stream": "stderr",
       "text": [
        "ionize/Solution/conservation.py:58: UserWarning: Ion not in single valance. Jovin invalid.\n",
        "  warnings.warn('Ion not in single valance. Jovin invalid.')\n"
       ]
      }
     ],
     "prompt_number": 21
    },
    {
     "cell_type": "code",
     "collapsed": false,
     "input": [],
     "language": "python",
     "metadata": {},
     "outputs": []
    }
   ],
   "metadata": {}
  }
 ]
}