{
 "metadata": {
  "name": "",
  "signature": "sha256:38717b8670f5abcc8c0936e1ac92581c8c2299a83f894984aeed130a3dc0f1f5"
 },
 "nbformat": 3,
 "nbformat_minor": 0,
 "worksheets": [
  {
   "cells": [
    {
     "cell_type": "markdown",
     "metadata": {},
     "source": [
      "ionize Tutorial\n",
      "==============="
     ]
    },
    {
     "cell_type": "markdown",
     "metadata": {},
     "source": [
      "**ionize** is a Python module for calculating the properties of ions in aqueous solution. \n",
      "\n",
      "**ionize** is based on models that have already been implimented in other software packages, such as [Peakmaster](http://web.natur.cuni.cz/gas/), [Spresso](http://stanfordspresso.blogspot.com/), and [STEEP](http://microfluidics.stanford.edu/download/). **ionize** provides easy access to the results of these models as building blocks for custom Python simulations.\n",
      "\n",
      "To load the library, simply import **ionize**."
     ]
    },
    {
     "cell_type": "code",
     "collapsed": false,
     "input": [
      "# Set up to reload any modules that have changed. \n",
      "%load_ext autoreload \n",
      "%autoreload 2"
     ],
     "language": "python",
     "metadata": {},
     "outputs": [],
     "prompt_number": 1
    },
    {
     "cell_type": "code",
     "collapsed": false,
     "input": [
      "# Import the ionize library, as well as pyplot and numpy for demonstration purposes. \n",
      "import ionize\n",
      "import matplotlib.pyplot as plt\n",
      "import numpy"
     ],
     "language": "python",
     "metadata": {},
     "outputs": [],
     "prompt_number": 2
    },
    {
     "cell_type": "markdown",
     "metadata": {},
     "source": [
      "Ion\n",
      "----\n",
      "The basic building block of an **ionize** simulation is an ionic species, modeled by the **Ion** class. Call **ionize**.**Ion**(*name*, *z*, *pKa*, *absolute_mobility*). *name* is the name of the ion, typically as a string. *z* is a list containing the charge states of the ion. *pKa* is a list of the pKas of the charge states, with the same order as the list *z*. *absolute_mobility* is a list containing the absolute, infinite dilution mobilities of each charge state, ordered the same as the other two lists, in units of m<sup>2</sup>V<sup>-1</sup>s<sup>-1</sup>."
     ]
    },
    {
     "cell_type": "code",
     "collapsed": false,
     "input": [
      "# Initialize an ion and print it. \n",
      "acid = ionize.Ion('myAcid', [-1], [2], [-25e-9])\n",
      "base = ionize.Ion('myBase', [1], [8], [20e-9], T=35)\n",
      "print acid\n",
      "print base"
     ],
     "language": "python",
     "metadata": {},
     "outputs": [
      {
       "output_type": "stream",
       "stream": "stdout",
       "text": [
        "Ion object -- myAcid: {-1: (2, -2.5e-08)}\n",
        "Ion object -- myBase: {1: (8, 2e-08)}\n"
       ]
      },
      {
       "output_type": "stream",
       "stream": "stderr",
       "text": [
        "ionize/Ion/correct_pKa.py:13: UserWarning: No data available to correct pKa for temperature.\n",
        "  warnings.warn('No data available to correct pKa for temperature.')\n"
       ]
      }
     ],
     "prompt_number": 3
    },
    {
     "cell_type": "markdown",
     "metadata": {},
     "source": [
      "Once an ion species is initialized, you can call the properties of the ion, typically as a function of pH and ionic strength. "
     ]
    },
    {
     "cell_type": "code",
     "collapsed": false,
     "input": [
      "print 'Ka at (I=0 M) =', base.Ka()\n",
      "print 'Ka at (I=0.5 M) =', base.Ka_eff(I=0.5)\n",
      "\n",
      "pH = numpy.linspace(0,15, 60)\n",
      "\n",
      "for I in [0, 0.1, 1]:\n",
      "    mu = [base.effective_mobility(p, I) for p in pH]\n",
      "    plt.plot(pH, mu, label='I=' + str(I) + 'M')\n",
      "\n",
      "plt.xlabel('pH')\n",
      "plt.ylabel('effective mobility (m^2/v/s)')\n",
      "legend()\n",
      "plt.show()"
     ],
     "language": "python",
     "metadata": {},
     "outputs": [
      {
       "output_type": "stream",
       "stream": "stdout",
       "text": [
        "Ka at (I=0 M) = [1e-08]\n",
        "Ka at (I=0.5 M) = [1e-08]\n"
       ]
      },
      {
       "metadata": {},
       "output_type": "display_data",
       "png": "[encoded data removed]",
       "text": [
        "<matplotlib.figure.Figure at 0x115990c10>"
       ]
      }
     ],
     "prompt_number": 4
    },
    {
     "cell_type": "markdown",
     "metadata": {},
     "source": [
      "##Ion Database\n",
      "Individually initializing ions is error-prone and time-consuming. To simplify the process, load ionic species from a database using the **load_ion** function. Call **ionize**.**load_ion**(*name*), where *name* is the case-insensitive full name of an ionic species. The function returns an Ion object, or *None* if the object is not available. "
     ]
    },
    {
     "cell_type": "code",
     "collapsed": false,
     "input": [
      "histidine = ionize.load_ion('histidine')\n",
      "\n",
      "print histidine\n",
      "\n",
      "mu_histidine = [histidine.effective_mobility(p) for p in pH]\n",
      "\n",
      "plt.plot(pH, mu_histidine)\n",
      "plt.xlabel('pH')\n",
      "plt.ylabel('effective mobility (m^2/v/s)')\n",
      "plt.show()"
     ],
     "language": "python",
     "metadata": {},
     "outputs": [
      {
       "output_type": "stream",
       "stream": "stdout",
       "text": [
        "Ion object -- histidine: {1: (6.04, 2.8800000000000003e-08), 2: (2.0, 4.47e-08), -1: (9.33, -2.8300000000000002e-08)}\n"
       ]
      },
      {
       "metadata": {},
       "output_type": "display_data",
       "png": "[encoded data removed]",
       "text": [
        "<matplotlib.figure.Figure at 0x115990e50>"
       ]
      }
     ],
     "prompt_number": 5
    },
    {
     "cell_type": "markdown",
     "metadata": {},
     "source": [
      "search_ion()\n",
      "------------\n",
      "You can also search for ions in the database by name using **search_ion()**. Call it by specifying a *search_string*. **search_ion()** will print the names of all ions that contain the *search_string*. **search_ion** will not return any results, so call **load_ion** when you find what you want. "
     ]
    },
    {
     "cell_type": "code",
     "collapsed": false,
     "input": [
      "print \"Search results for 'amino'\\n--------------------------\"\n",
      "ionize.search_ion('amino')\n",
      "print \"\\nSearch results for 'chloric'\\n---------------------------\"\n",
      "ionize.search_ion('chloric')\n",
      "print \"\\nSearch results for 'per'\\n------------------------\"\n",
      "ionize.search_ion('per')\n",
      "print '\\nOh, copper is what I was looking for.'\n",
      "print ionize.load_ion('copper')"
     ],
     "language": "python",
     "metadata": {},
     "outputs": [
      {
       "output_type": "stream",
       "stream": "stdout",
       "text": [
        "Search results for 'amino'\n",
        "--------------------------\n",
        "2-amino-2-methyl-1-propanol\n",
        "e-aminocaproic acid\n",
        "o-aminobenzoic acid\n",
        "p-aminobenzoic acid\n",
        "\n",
        "Search results for 'chloric'\n",
        "---------------------------\n",
        "chloric acid\n",
        "hydrochloric acid\n",
        "perchloric acid\n",
        "\n",
        "Search results for 'per'\n",
        "------------------------\n",
        "copper\n",
        "diperodone\n",
        "perchloric acid\n",
        "periodic acid\n",
        "permanganic acid\n",
        "peroxysulfuric acid\n",
        "perrhenic acid\n",
        "piperidine\n",
        "\n",
        "Oh, copper is what I was looking for.\n",
        "Ion object -- copper: {1: (8.5, 3.23e-08), 2: (7.3, 5.560000000000001e-08)}\n"
       ]
      }
     ],
     "prompt_number": 6
    },
    {
     "cell_type": "markdown",
     "metadata": {},
     "source": [
      "You can also directly call the database used by both **load_ion** and **search_ion** using **get_db**. This returns the database as a shelve object, which is accessed using the same methods as a dictionary. Remember to close the shelve after using it. "
     ]
    },
    {
     "cell_type": "code",
     "collapsed": false,
     "input": [
      "    ion_list = ionize.get_db()\n",
      "    print len(ion_list), 'ions in database.'\n",
      "    ion_list.close()"
     ],
     "language": "python",
     "metadata": {},
     "outputs": [
      {
       "output_type": "stream",
       "stream": "stdout",
       "text": [
        "507 ions in database.\n"
       ]
      }
     ],
     "prompt_number": 7
    },
    {
     "cell_type": "markdown",
     "metadata": {},
     "source": [
      "Solution\n",
      "--------\n",
      "Getting the properties of a single ionic species in solution is useful, but the real challenge of dealing with aqueous solutions of ions is finding properties based on the equilibrium state of multiple ionic species. *ionize* can perform those calculations using the Solution class. Solution objects are initialized using ionize.Solution(*ions*, *concentrations*), where ions is a list of ionize.Ion objects and concentration is a list concentrations of the ions, with concentrations in molar."
     ]
    },
    {
     "cell_type": "code",
     "collapsed": false,
     "input": [
      "hcl=ionize.load_ion('hydrochloric acid')\n",
      "tris=ionize.load_ion('tris')\n",
      "buffer=ionize.Solution([tris, hcl], [0.1, 0.085])\n",
      "\n",
      "print 'pH =', buffer.pH\n",
      "print 'I =', buffer.I, 'M'\n",
      "print 'conductivity =', buffer.conductivity(), 'S/m'\n",
      "print 'buffering capacity =', buffer.buffering_capacity(), 'M'"
     ],
     "language": "python",
     "metadata": {},
     "outputs": [
      {
       "output_type": "stream",
       "stream": "stdout",
       "text": [
        "pH = 7.41765241942\n",
        "I = 0.0850003606676 M\n",
        "conductivity = 0.669136768678 S/m\n",
        "buffering capacity = 0.0289290518371 M\n"
       ]
      }
     ],
     "prompt_number": 8
    },
    {
     "cell_type": "markdown",
     "metadata": {},
     "source": [
      "Once we can construct solutions, we can construct a variety of solutions and map the properties of the solutions. "
     ]
    },
    {
     "cell_type": "code",
     "collapsed": false,
     "input": [
      "c_tris = 0.1\n",
      "c_hcl = numpy.linspace(0.0, 0.2, 50)\n",
      "t_pH = [ionize.Solution([tris, hcl], [c_tris, c_h]).pH for c_h in c_hcl]\n",
      "\n",
      "plt.plot(c_hcl/c_tris, t_pH)\n",
      "plt.xlabel('[HCl]/[Tris]')\n",
      "plt.ylabel('pH')\n",
      "plt.show()"
     ],
     "language": "python",
     "metadata": {},
     "outputs": [
      {
       "metadata": {},
       "output_type": "display_data",
       "png": "[encoded data removed]",
       "text": [
        "<matplotlib.figure.Figure at 0x115a90ad0>"
       ]
      }
     ],
     "prompt_number": 9
    },
    {
     "cell_type": "code",
     "collapsed": false,
     "input": [
      "print histidine.Ka_eff(0)"
     ],
     "language": "python",
     "metadata": {},
     "outputs": [
      {
       "output_type": "stream",
       "stream": "stdout",
       "text": [
        "[4.677351412871981e-10, 9.120108393559096e-07, 0.01]\n"
       ]
      }
     ],
     "prompt_number": 10
    },
    {
     "cell_type": "markdown",
     "metadata": {},
     "source": [
      "A **Solution** can also be initialized without ions, e.g. as water. "
     ]
    },
    {
     "cell_type": "code",
     "collapsed": false,
     "input": [
      "water = ionize.Solution()\n",
      "print 'I =', water.I, 'M'\n",
      "print 'pH =', water.pH\n",
      "print 'conductivity =', water.conductivity(), 'S/m'"
     ],
     "language": "python",
     "metadata": {},
     "outputs": [
      {
       "output_type": "stream",
       "stream": "stdout",
       "text": [
        "I = 1e-07 M\n",
        "pH = 7.0\n",
        "conductivity = 5.47207623603e-06 S/m\n"
       ]
      }
     ],
     "prompt_number": 11
    },
    {
     "cell_type": "markdown",
     "metadata": {},
     "source": [
      "A **Solution** can also be added and multiplied through operator overloading. This can be useful when calculating the results of diltuions, as below. "
     ]
    },
    {
     "cell_type": "code",
     "collapsed": false,
     "input": [
      "print buffer\n",
      "dilution = 0.5 * buffer + 0.5 * water\n",
      "print dilution\n",
      "print buffer"
     ],
     "language": "python",
     "metadata": {},
     "outputs": [
      {
       "output_type": "stream",
       "stream": "stdout",
       "text": [
        "Solution object -- pH = 7.41765241942, I = 0.0850003606676 M\n",
        "Solution object -- pH = 7.39874288839, I = 0.0425003231562 M\n",
        "Solution object -- pH = 7.41765241942, I = 0.0850003606676 M\n"
       ]
      }
     ],
     "prompt_number": 12
    },
    {
     "cell_type": "code",
     "collapsed": false,
     "input": [
      "mag= ionize.load_ion('magnesium')\n",
      "mag_base =  ionize.Solution([mag], [0.1])\n",
      "print mag_base.ions[0].ionization_fraction(mag_base.pH)\n",
      "print mag_base.conductivity()\n",
      "print mag_base"
     ],
     "language": "python",
     "metadata": {},
     "outputs": [
      {
       "output_type": "stream",
       "stream": "stdout",
       "text": [
        "[0.3045565469518362, 0.021823319998753723]\n",
        "0.58375950894\n",
        "Solution object -- pH = 12.544747119, I = 0.0507770135656 M\n"
       ]
      }
     ],
     "prompt_number": 13
    },
    {
     "cell_type": "code",
     "collapsed": false,
     "input": [
      "print mag"
     ],
     "language": "python",
     "metadata": {},
     "outputs": [
      {
       "output_type": "stream",
       "stream": "stdout",
       "text": [
        "Ion object -- magnesium: {1: (12.2, 2.75e-08), 2: (11.4, 5.5e-08)}\n"
       ]
      }
     ],
     "prompt_number": 14
    },
    {
     "cell_type": "code",
     "collapsed": false,
     "input": [
      "T = list(range(25,50))\n",
      "v = list([ionize.viscosity(None, t) for t in range(25, 50)])\n",
      "plot(T,v)\n",
      "show()"
     ],
     "language": "python",
     "metadata": {},
     "outputs": [
      {
       "metadata": {},
       "output_type": "display_data",
       "png": "[encoded data removed]",
       "text": [
        "<matplotlib.figure.Figure at 0x115ad9590>"
       ]
      }
     ],
     "prompt_number": 16
    },
    {
     "cell_type": "code",
     "collapsed": false,
     "input": [],
     "language": "python",
     "metadata": {},
     "outputs": [],
     "prompt_number": 15
    }
   ],
   "metadata": {}
  }
 ]
}