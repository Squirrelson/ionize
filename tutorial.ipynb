{
 "cells": [
  {
   "cell_type": "markdown",
   "metadata": {},
   "source": [
    "ionize Tutorial\n",
    "==============="
   ]
  },
  {
   "cell_type": "markdown",
   "metadata": {},
   "source": [
    "**ionize** is a Python module for calculating the properties of ions in aqueous solution. \n",
    "\n",
    "To load the library, simply import **ionize**."
   ]
  },
  {
   "cell_type": "code",
   "execution_count": 5,
   "metadata": {
    "collapsed": false
   },
   "outputs": [],
   "source": [
    "from __future__ import print_function, absolute_import, division\n",
    "import ionize\n",
    "\n",
    "# We'll also import numpy to set up some of our inputs. \n",
    "# And pprint to prettily print some lists.\n",
    "import numpy\n",
    "import pprint\n",
    "\n",
    "# And set up inline plotting.\n",
    "from matplotlib.pyplot import *\n",
    "%matplotlib inline\n",
    "\n",
    "# Prettify numpy printing\n",
    "numpy.set_printoptions(precision=3)"
   ]
  },
  {
   "cell_type": "markdown",
   "metadata": {},
   "source": [
    "Ion\n",
    "----\n",
    "The basic building block of an **ionize** simulation is an ionic species, modeled by the **Ion** class. Call **ionize**.**Ion**(*name*, *z*, *pKa*, *absolute_mobility*). *name* is the name of the ion, typically as a string. *z* is a list containing the charge states of the ion. *pKa* is a list of the pKas of the charge states, with the same order as the list *z*. *absolute_mobility* is a list containing the absolute, infinite dilution mobilities of each charge state, ordered the same as the other two lists, in units of m<sup>2</sup>V<sup>-1</sup>s<sup>-1</sup>."
   ]
  },
  {
   "cell_type": "code",
   "execution_count": 2,
   "metadata": {
    "collapsed": false
   },
   "outputs": [
    {
     "name": "stdout",
     "output_type": "stream",
     "text": [
      "Ion('myAcid')\n",
      "Ion(name='myBase', reference_mobility=[2e-08], reference_temperature=25.0, nightingale_data=None, valence=[1], alias=None, reference_pKa=[8.0], enthalpy=None, molecular_weight=None, heat_capacity=None)\n"
     ]
    }
   ],
   "source": [
    "# Initialize an ion and print it. \n",
    "acid = ionize.Ion('myAcid', [-1], [5], [-25e-9])\n",
    "base = ionize.Ion('myBase', [1], [8], [20e-9])\n",
    "print(acid)        # The string includes only the class and name.\n",
    "print(repr(base))  # The representation contains enough information to reconstruct the ion. "
   ]
  },
  {
   "cell_type": "markdown",
   "metadata": {},
   "source": [
    "Once an ion species is initialized, you can call the properties of the ion, typically as a function of pH, ionic strength, and temperature, in that order. "
   ]
  },
  {
   "cell_type": "code",
   "execution_count": 4,
   "metadata": {
    "collapsed": false
   },
   "outputs": [
    {
     "name": "stdout",
     "output_type": "stream",
     "text": [
      "myAcid Ka at (I=0 M) = [  1.001e-05]\n",
      "myAcid Ka at (I=0.5 M) = [  1.781e-05]\n"
     ]
    },
    {
     "name": "stderr",
     "output_type": "stream",
     "text": [
      "/Users/lewis/Documents/github/ionize/ionize/Ion/mobility.py:44: UserWarning: Insufficient information for Onsager-Fuoss correction to mobility. Returning the Robinson-Stokes approximation.\n",
      "  warnings.warn(\"Insufficient information for Onsager-Fuoss \"\n"
     ]
    },
    {
     "data": {
      "image/png": "[encoded data removed]",
      "text/plain": [
       "<matplotlib.figure.Figure at 0x10646b8d0>"
      ]
     },
     "metadata": {},
     "output_type": "display_data"
    }
   ],
   "source": [
    "print('myAcid Ka at (I=0 M) =', acid.acidity())\n",
    "print('myAcid Ka at (I=0.5 M) =', acid.acidity(ionic_strength=0.5))\n",
    "\n",
    "pH = numpy.linspace(0,14)\n",
    "\n",
    "for I in [None, 0., 0.001, 0.01, 0.1]:\n",
    "    mu = [base.mobility(p, I) for p in pH]\n",
    "    if I is not None:\n",
    "        label = 'I={} M'.format(I)\n",
    "    else:\n",
    "        label = 'I=None'\n",
    "    plot(pH, mu, label=label)\n",
    "\n",
    "xlabel('pH'); xlim(0, 14)\n",
    "ylabel('effective mobility (m^2/v/s)'); ylim(-.1e-8, 2.1e-8)\n",
    "legend()\n",
    "show()"
   ]
  },
  {
   "cell_type": "markdown",
   "metadata": {},
   "source": [
    "Note the difference between ionic_strength parameters here. If ionic_strength is 0, the numerical value of 0 is used in each calculation. However, it is impossible to have a solution of pH 0 with ionic_strength of 0. \n",
    "\n",
    "When the default value of None is used for ionic_strength, ionize uses the minimum ionic strength at the selected pH. "
   ]
  },
  {
   "cell_type": "markdown",
   "metadata": {},
   "source": [
    "## Using the **ionize** database\n",
    "\n",
    "Individually initializing ions is error-prone and time-consuming. To simplify the process, load ions from \n",
    "the database by initializing the database, and accessing the database like a dictionary. "
   ]
  },
  {
   "cell_type": "code",
   "execution_count": 9,
   "metadata": {
    "collapsed": false
   },
   "outputs": [
    {
     "name": "stdout",
     "output_type": "stream",
     "text": [
      "Ion(name='histidine', reference_mobility=[-2.8300000000000002e-08, 2.8800000000000003e-08, 4.47e-08], reference_temperature=25.0, nightingale_data=None, valence=[-1, 1, 2], alias=None, reference_pKa=[9.33, 6.04, 2.0], enthalpy=[43800.0, 29500.0, 3600.0], molecular_weight=155.15, heat_capacity=[-233.0, 176.0, 0.0])\n"
     ]
    },
    {
     "name": "stderr",
     "output_type": "stream",
     "text": [
      "/Users/lewis/Documents/github/ionize/ionize/Ion/mobility.py:44: UserWarning: Insufficient information for Onsager-Fuoss correction to mobility. Returning the Robinson-Stokes approximation.\n",
      "  warnings.warn(\"Insufficient information for Onsager-Fuoss \"\n"
     ]
    },
    {
     "data": {
      "image/png": "[encoded data removed]",
      "text/plain": [
       "<matplotlib.figure.Figure at 0x10c59ed68>"
      ]
     },
     "metadata": {},
     "output_type": "display_data"
    }
   ],
   "source": [
    "db = ionize.Database()\n",
    "histidine = db['histidine']\n",
    "print(repr(histidine))\n",
    "\n",
    "for ionic_strength in (None, 0):\n",
    "    mu_histidine = [histidine.mobility(p, ionic_strength=ionic_strength) for p in pH]\n",
    "    plot(pH, mu_histidine, label=\"I={}\".format(ionic_strength))\n",
    "    \n",
    "xlabel('pH'); xlim([0, 14])\n",
    "ylabel('effective mobility (m^2/v/s)')\n",
    "legend()\n",
    "show()"
   ]
  },
  {
   "cell_type": "markdown",
   "metadata": {},
   "source": [
    "### search_ion()\n",
    "\n",
    "You can also search for ions in the database by name using **Database().search()**. Call it by specifying a *search_string*. **search()** will print the names of all ions that contain the *search_string*. **search** will not return a list of strings, so load the ion when you find what you want. "
   ]
  },
  {
   "cell_type": "code",
   "execution_count": 14,
   "metadata": {
    "collapsed": false
   },
   "outputs": [
    {
     "name": "stdout",
     "output_type": "stream",
     "text": [
      "Search results for 'amino'\n",
      "--------------------------\n",
      "('2-amino-2-methyl-1-propanol',\n",
      " 'e-aminocaproic acid',\n",
      " 'gamma-aminobutyric acid',\n",
      " 'o-aminobenzoic acid',\n",
      " 'p-aminobenzoic acid')\n",
      "\n",
      "Search results for 'chloric'\n",
      "----------------------------\n",
      "('chloric acid', 'hydrochloric acid', 'perchloric acid')\n",
      "\n",
      "Search results for 'per'\n",
      "------------------------\n",
      "('copper',\n",
      " 'diperodone',\n",
      " 'perchloric acid',\n",
      " 'periodic acid',\n",
      " 'permanganic acid',\n",
      " 'peroxysulfuric acid',\n",
      " 'perrhenic acid',\n",
      " 'piperidine')\n",
      "\n",
      "Oh, copper is what I was looking for.\n",
      "Ion('copper')\n"
     ]
    }
   ],
   "source": [
    "print(\"Search results for 'amino'\\n--------------------------\")\n",
    "pprint.pprint(db.search('amino'))\n",
    "print(\"\\nSearch results for 'chloric'\\n----------------------------\")\n",
    "pprint.pprint(db.search('chloric'))\n",
    "print(\"\\nSearch results for 'per'\\n------------------------\")\n",
    "pprint.pprint(db.search('per'))\n",
    "print('\\nOh, copper is what I was looking for.')\n",
    "print(db.load('copper'))"
   ]
  },
  {
   "cell_type": "markdown",
   "metadata": {},
   "source": [
    "### Other db functions\n",
    "You can get the database data as a dictionary using the data method."
   ]
  },
  {
   "cell_type": "code",
   "execution_count": 16,
   "metadata": {
    "collapsed": false
   },
   "outputs": [
    {
     "name": "stdout",
     "output_type": "stream",
     "text": [
      "522 ions in database.\n"
     ]
    }
   ],
   "source": [
    "print(len(db.data), 'ions in database.')"
   ]
  },
  {
   "cell_type": "markdown",
   "metadata": {},
   "source": [
    "Solution\n",
    "--------\n",
    "Getting the properties of a single ionic species in solution is useful, but the real challenge of dealing with aqueous solutions of ions is finding properties based on the equilibrium state of multiple ionic species. **ionize** can perform those calculations using the **Solution** class. **Solution** objects are initialized using **ionize**.**Solution**(*ions*, *concentrations*), where ions is a list of **Ion** objects and concentration is a list concentrations of the ions, with concentrations in molar."
   ]
  },
  {
   "cell_type": "code",
   "execution_count": 8,
   "metadata": {
    "collapsed": false
   },
   "outputs": [
    {
     "name": "stdout",
     "output_type": "stream",
     "text": [
      "pH = 7.41791879345\n",
      "I = 0.0850004156877 M\n",
      "conductivity = 0.893029576838 S/m\n",
      "buffering capacity = 0.0295707551228 M\n",
      "debye length = 1.47397974153e-09 m\n"
     ]
    }
   ],
   "source": [
    "hcl=database.load('hydrochloric acid')\n",
    "tris=database.load('tris')\n",
    "buffer=ionize.Solution([tris, hcl], [0.1, 0.085])\n",
    "\n",
    "print 'pH =', buffer.pH\n",
    "print 'I =', buffer.ionic_strength, 'M'\n",
    "print 'conductivity =', buffer.conductivity(), 'S/m'\n",
    "print 'buffering capacity =', buffer.buffering_capacity(), 'M'\n",
    "print 'debye length =', buffer.debye(), 'm'"
   ]
  },
  {
   "cell_type": "markdown",
   "metadata": {},
   "source": [
    "**Solutions** can be initialized with ion names instead of ions. If so, the **Solution** calls **load_ion** to determine the ion identities."
   ]
  },
  {
   "cell_type": "code",
   "execution_count": 9,
   "metadata": {
    "collapsed": false
   },
   "outputs": [
    {
     "name": "stdout",
     "output_type": "stream",
     "text": [
      "['bis-tris', 'acetic acid']\n",
      "0.03\n"
     ]
    }
   ],
   "source": [
    "print [ion.name for ion in ionize.Solution(['bis-tris', 'acetic acid'], [0.1, 0.03]).ions]\n",
    "print ionize.Solution(['bis-tris', 'acetic acid'], [0.1, 0.03]).concentration(database.load('acetic acid'))"
   ]
  },
  {
   "cell_type": "markdown",
   "metadata": {},
   "source": [
    "We can iterate through solutions to quickly calculate the pH of a titration between two ions"
   ]
  },
  {
   "cell_type": "code",
   "execution_count": 10,
   "metadata": {
    "collapsed": false
   },
   "outputs": [
    {
     "data": {
      "image/png": "[encoded data removed]",
      "text/plain": [
       "<matplotlib.figure.Figure at 0x1093f7250>"
      ]
     },
     "metadata": {},
     "output_type": "display_data"
    }
   ],
   "source": [
    "c_tris = 0.1\n",
    "c_hcl = numpy.linspace(0.0, 0.2, 50)\n",
    "t_pH = [ionize.Solution(['tris', 'hydrochloric acid'], [c_tris, c_h], temperature=25).pH for c_h in c_hcl]\n",
    "\n",
    "plot(c_hcl/c_tris, t_pH)\n",
    "xlabel('[HCl]/[Tris]')\n",
    "ylabel('pH')\n",
    "show()"
   ]
  },
  {
   "cell_type": "markdown",
   "metadata": {},
   "source": [
    "A **Solution** can also be initialized without ions, e.g. as water. "
   ]
  },
  {
   "cell_type": "code",
   "execution_count": 11,
   "metadata": {
    "collapsed": false
   },
   "outputs": [
    {
     "name": "stdout",
     "output_type": "stream",
     "text": [
      "I = 1e-07 M\n",
      "pH = 7.0\n",
      "conductivity = 5.47409147959e-06 S/m\n"
     ]
    }
   ],
   "source": [
    "water = ionize.Solution()\n",
    "print 'I =', water.ionic_strength, 'M'\n",
    "print 'pH =', water.pH\n",
    "print 'conductivity =', water.conductivity(), 'S/m'"
   ]
  },
  {
   "cell_type": "markdown",
   "metadata": {},
   "source": [
    "A **Solution** can also be added and multiplied through operator overloading. This can be useful when calculating the results of diltuions, as below. "
   ]
  },
  {
   "cell_type": "code",
   "execution_count": 12,
   "metadata": {
    "collapsed": false
   },
   "outputs": [
    {
     "name": "stdout",
     "output_type": "stream",
     "text": [
      "Stock: Solution(pH=7.42, I=0.085 M)\n",
      "Dilution: Solution(pH=7.4, I=0.0425 M)\n"
     ]
    }
   ],
   "source": [
    "print 'Stock:', buffer\n",
    "dilution = 0.5 * buffer + 0.5 * water\n",
    "print 'Dilution:', dilution"
   ]
  },
  {
   "cell_type": "markdown",
   "metadata": {},
   "source": [
    "**Solutions** can be titrated to a specified pH. To do so, make a solution, and then specify a titrant, a property, and a target.  "
   ]
  },
  {
   "cell_type": "code",
   "execution_count": 13,
   "metadata": {
    "collapsed": false
   },
   "outputs": [],
   "source": [
    "buff = ionize.Solution([tris], 0.1)"
   ]
  },
  {
   "cell_type": "code",
   "execution_count": 14,
   "metadata": {
    "collapsed": false
   },
   "outputs": [
    {
     "name": "stdout",
     "output_type": "stream",
     "text": [
      "Solution(pH=8.2, I=0.0474 M)\n",
      "Solution(pH=3, I=0.101 M)\n",
      "0.00829362389863\n",
      "Solution(ions=['tris', 'hydrochloric acid'], concentrations=[0.1, 0.14949345878061224], temperature=25.0)\n",
      "Solution(ions=['tris', 'hydrochloric acid'], concentrations=[0.1, 0.059175833516811535], temperature=25.0)\n"
     ]
    }
   ],
   "source": [
    "print buff.titrate('hydrochloric acid', 8.2)\n",
    "print buff.titrate('hydrochloric acid', 3)\n",
    "print buff.conductivity()\n",
    "print repr(buff.titrate('hydrochloric acid', 3, titration_property = 'conductivity'))\n",
    "print repr(buff.titrate('hydrochloric acid', 8))\n"
   ]
  },
  {
   "cell_type": "markdown",
   "metadata": {},
   "source": [
    "Temperature Effects\n",
    "-------------------\n",
    "Both **Ion** objects and **Solution** objects take T as an optional argument for temperature. Temperature should be specified in degrees C. \n",
    "\n",
    "**Ion** objects adjust their absolute mobility and pKa attributes based on temperature. They also make adjustments to their ionic strength correction algorithms based on temperature. The type of temperature adjustment data depends on the specific ion. For small ions, emperical data from literature is included. For organic molecules, &Delta;H and &Delta;Cp values may be provided. All ions also correct their mobilities for viscosity. "
   ]
  },
  {
   "cell_type": "code",
   "execution_count": 15,
   "metadata": {
    "collapsed": false
   },
   "outputs": [
    {
     "name": "stderr",
     "output_type": "stream",
     "text": [
      "ionize/Ion/acidity.py:28: UserWarning: No data available to correct pKa for temperature.\n",
      "  warnings.warn('No data available to correct pKa for temperature.')\n"
     ]
    },
    {
     "data": {
      "image/png": "[encoded data removed]",
      "text/plain": [
       "<matplotlib.figure.Figure at 0x10909f990>"
      ]
     },
     "metadata": {},
     "output_type": "display_data"
    },
    {
     "data": {
      "image/png": "[encoded data removed]",
      "text/plain": [
       "<matplotlib.figure.Figure at 0x1092854d0>"
      ]
     },
     "metadata": {},
     "output_type": "display_data"
    }
   ],
   "source": [
    "silver = database.load('silver')\n",
    "tris = database.load('tris')\n",
    "T = numpy.linspace(20.0, 80.0)\n",
    "mu_silver = [silver.absolute_mobility(Tp) for Tp in T]\n",
    "mu_tris = [tris.absolute_mobility(Tp) for Tp in T]\n",
    "pKa_silver = [silver.pKa(0, Tp) for Tp in T]\n",
    "pKa_tris = [tris.pKa(0, Tp) for Tp in T]\n",
    "\n",
    "figure()\n",
    "plot(T, mu_silver, label = 'Silver')\n",
    "plot(T, mu_tris, label = 'Tris')\n",
    "legend(loc = 'upper left')\n",
    "xlabel('Temperature ($^{\\circ}$C)'); ylabel('Absolute mobility ($m^2V^{-1}s^{-1}$)')\n",
    "show()\n",
    "figure()\n",
    "plot(T, pKa_silver, label = 'Silver')\n",
    "plot(T, pKa_tris, label = 'Tris')\n",
    "legend(loc = 'lower left')\n",
    "xlabel('Temperature ($^{\\circ}$C)'); ylabel('pKa')\n",
    "show()"
   ]
  },
  {
   "cell_type": "markdown",
   "metadata": {},
   "source": [
    "**Solution** objects send their temperature correction parameters to the object that they contain. In addition, they use the temperature input to correct their ionic strength correction parameters. "
   ]
  },
  {
   "cell_type": "code",
   "execution_count": 16,
   "metadata": {
    "collapsed": false
   },
   "outputs": [
    {
     "data": {
      "image/png": "[encoded data removed]",
      "text/plain": [
       "<matplotlib.figure.Figure at 0x108f8fe10>"
      ]
     },
     "metadata": {},
     "output_type": "display_data"
    },
    {
     "data": {
      "image/png": "[encoded data removed]",
      "text/plain": [
       "<matplotlib.figure.Figure at 0x1095c6f90>"
      ]
     },
     "metadata": {},
     "output_type": "display_data"
    }
   ],
   "source": [
    "buffer_ref = ionize.Solution(['tris', 'hydrochloric acid'], [.200, .100], temperature=25.)\n",
    "mu_ref = buffer_ref.ions[1].mobility()\n",
    "mup = []\n",
    "pH = []\n",
    "I = []\n",
    "mu=[]\n",
    "cond = []\n",
    "for Tp in T:\n",
    "    buffer = ionize.Solution([tris, hcl], [.200, .100], temperature=Tp)\n",
    "    mu.append(buffer.ions[1].mobility())\n",
    "    mup.append(buffer.ions[1].mobility()/mu_ref)\n",
    "    pH.append(buffer.pH)\n",
    "    I.append(buffer.ionic_strength)\n",
    "    cond.append(buffer.conductivity())\n",
    "#     mup.append(hcl.nightingale_function(Tp))\n",
    "cond_norm = [c / cond[0] for c in cond]\n",
    "figure()\n",
    "plot(T, pH); xlabel('Temperature ($^{\\circ}$C)'); ylabel('pH')\n",
    "show()\n",
    "\n",
    "figure()\n",
    "plot(T, mup, label='chloride'); xlabel('Temperature ($^{\\circ}$C)'); ylabel('$\\mu$(T)/$\\mu$(T$_o$)'); legend(loc='upper left')\n",
    "show()"
   ]
  },
  {
   "cell_type": "markdown",
   "metadata": {},
   "source": [
    "Conservation Functions\n",
    "--------------------\n",
    "Conservation functions are spatially invariant quantities that remain constant as a solution undergoes electrophoresis. They are useful in calculating ion concentrations in zones formed during electrophoresis. \n",
    "\n",
    "### The Kohlrausch Regulating Function (KRF)\n",
    "The most basic conservation function is the KRF. This function is only valid for strongly ionized species, when water dissociation doesn't play a strong role. Solutions can calculate their own KRF values. They throw a warning if they contain species that are not strongly ionized."
   ]
  },
  {
   "cell_type": "code",
   "execution_count": 17,
   "metadata": {
    "collapsed": false
   },
   "outputs": [
    {
     "name": "stdout",
     "output_type": "stream",
     "text": [
      "842239937.286\n"
     ]
    }
   ],
   "source": [
    "saltwater = ionize.Solution(['sodium', 'hydrochloric acid'], [0.1, 0.1])\n",
    "print saltwater.kohlrausch()"
   ]
  },
  {
   "cell_type": "code",
   "execution_count": 18,
   "metadata": {
    "collapsed": false
   },
   "outputs": [
    {
     "name": "stdout",
     "output_type": "stream",
     "text": [
      "[Ion(name='tris', valence=[1], reference_pKa=[8.076], reference_mobility=[2.9500000000000003e-08], reference_temperature=25.0, enthalpy=[47450.0], heat_capacity=[-59.0], nightingale_data=None), Ion(name='hydrochloric acid', valence=[-1], reference_pKa=[-2.0], reference_mobility=[-7.91e-08], reference_temperature=25.0, enthalpy=[55815.0], heat_capacity=None, nightingale_data={u'max': 99.0894, u'fit': [-2.2137142181060233e-16, 8.863674452701262e-14, -1.4332969510592665e-11, 1.1888046230819577e-09, -5.145376056942322e-08, 7.923801398904878e-07, 3.3530212793127194e-05, -0.0032209848253299594, 0.7381662817975986], u'min': 0.3302})]\n",
      "6170726622.46\n"
     ]
    },
    {
     "name": "stderr",
     "output_type": "stream",
     "text": [
      "ionize/Solution/conservation.py:18: UserWarning: ions are not fully ionized. KRF is a poor approx.\n",
      "  warnings.warn('ions are not fully ionized. KRF is a poor approx.')\n"
     ]
    }
   ],
   "source": [
    "print buffer_ref.ions\n",
    "print buffer_ref.kohlrausch()"
   ]
  },
  {
   "cell_type": "markdown",
   "metadata": {},
   "source": [
    "### The Alberty Conservation Function\n",
    "\n",
    "The Alberty conservation function is useful for weakly ionized monovalent species, when water dissocation doesn't play a strong role. "
   ]
  },
  {
   "cell_type": "code",
   "execution_count": 19,
   "metadata": {
    "collapsed": false
   },
   "outputs": [
    {
     "name": "stdout",
     "output_type": "stream",
     "text": [
      "5259543540.3\n"
     ]
    }
   ],
   "source": [
    "tcap = ionize.Solution(['tris', 'caproic acid'], [0.1, 0.05])\n",
    "print tcap.alberty()\n"
   ]
  },
  {
   "cell_type": "code",
   "execution_count": 20,
   "metadata": {
    "collapsed": false
   },
   "outputs": [
    {
     "name": "stdout",
     "output_type": "stream",
     "text": [
      "4903125827.01\n"
     ]
    },
    {
     "name": "stderr",
     "output_type": "stream",
     "text": [
      "ionize/Solution/conservation.py:37: UserWarning: Ion not in single valance. Alberty invalid.\n",
      "  warnings.warn('Ion not in single valance. Alberty invalid.')\n"
     ]
    }
   ],
   "source": [
    "tcit = ionize.Solution(['tris', 'citric acid'], [0.1, 0.05])\n",
    "print tcit.alberty()"
   ]
  },
  {
   "cell_type": "markdown",
   "metadata": {},
   "source": [
    "### The Jovin Conservation Function\n",
    "\n",
    "The Jovin conservation function is applicable under the same conditions that the Alberty conservation function is. It is often used as a compliment."
   ]
  },
  {
   "cell_type": "code",
   "execution_count": 21,
   "metadata": {
    "collapsed": false
   },
   "outputs": [
    {
     "name": "stdout",
     "output_type": "stream",
     "text": [
      "0.05\n"
     ]
    }
   ],
   "source": [
    "print tcap.jovin()"
   ]
  },
  {
   "cell_type": "code",
   "execution_count": 22,
   "metadata": {
    "collapsed": false
   },
   "outputs": [
    {
     "name": "stdout",
     "output_type": "stream",
     "text": [
      "0.0\n"
     ]
    },
    {
     "name": "stderr",
     "output_type": "stream",
     "text": [
      "ionize/Solution/conservation.py:59: UserWarning: Ion not in single valance. Jovin invalid.\n",
      "  warnings.warn('Ion not in single valance. Jovin invalid.')\n"
     ]
    }
   ],
   "source": [
    "print tcit.jovin()"
   ]
  },
  {
   "cell_type": "markdown",
   "metadata": {},
   "source": [
    "### The Gas Conservation Functions"
   ]
  },
  {
   "cell_type": "code",
   "execution_count": 23,
   "metadata": {
    "collapsed": false
   },
   "outputs": [
    {
     "name": "stdout",
     "output_type": "stream",
     "text": [
      "(5259391004.7303419, 5259769521.2571535)\n",
      "(4903125827.0111237, 4903125827.0111237)\n"
     ]
    }
   ],
   "source": [
    "print tcap.gas()\n",
    "print tcit.gas()"
   ]
  },
  {
   "cell_type": "markdown",
   "metadata": {},
   "source": [
    "### Serialization, Saving, and Loading\n",
    "You can also save and load ions and solutions in JSON format."
   ]
  },
  {
   "cell_type": "code",
   "execution_count": 24,
   "metadata": {
    "collapsed": true
   },
   "outputs": [],
   "source": [
    "# %load_ext snakeviz"
   ]
  },
  {
   "cell_type": "code",
   "execution_count": 25,
   "metadata": {
    "collapsed": false
   },
   "outputs": [],
   "source": [
    "# %%snakeviz\n",
    "# database = ionize.Database()\n",
    "# pH = np.linspace(0, 14)\n",
    "# for ion in database:\n",
    "#     for p in pH:\n",
    "#         ion.mobility(p)"
   ]
  },
  {
   "cell_type": "code",
   "execution_count": 26,
   "metadata": {
    "collapsed": false
   },
   "outputs": [
    {
     "data": {
      "text/plain": [
       "Database(\"/Users/lewis/Documents/github/ionize/ionize/Database/ion_data.json\")"
      ]
     },
     "execution_count": 26,
     "metadata": {},
     "output_type": "execute_result"
    }
   ],
   "source": [
    "database"
   ]
  },
  {
   "cell_type": "code",
   "execution_count": 35,
   "metadata": {
    "collapsed": false
   },
   "outputs": [
    {
     "data": {
      "image/png": "[encoded data removed]",
      "text/plain": [
       "<matplotlib.figure.Figure at 0x10980b710>"
      ]
     },
     "metadata": {},
     "output_type": "display_data"
    }
   ],
   "source": [
    "import itertools\n",
    "concentrations = np.linspace(0, 0.14)\n",
    "ref_mob = 50.e-9\n",
    "z = [1, 2]\n",
    "for zp, zm in itertools.product(z, repeat=2):\n",
    "    positive_ion = ionize.Ion('positive', [zp], [14], [ref_mob])\n",
    "    negative_ion = ionize.Ion('negative', [-zm], [0], [-ref_mob])\n",
    "    mob = []\n",
    "    i = []\n",
    "    for c in concentrations:\n",
    "        sol = ionize.Solution([positive_ion, negative_ion], [c/zp, c/zm])\n",
    "        mob.append(sol.ions[0].actual_mobility() / ref_mob )\n",
    "        i.append(sol.ionic_strength)\n",
    "    plot(i, mob, label='-{}:{}'.format(zm, zp))\n",
    "ylim(0, 1)\n",
    "# xlim(0, .14)\n",
    "legend(loc='lower left')\n",
    "xlabel('Concentration (M)')\n",
    "ylabel('$\\mu$/$\\mu_o$')\n",
    "show()\n",
    "        "
   ]
  },
  {
   "cell_type": "code",
   "execution_count": null,
   "metadata": {
    "collapsed": true
   },
   "outputs": [],
   "source": []
  }
 ],
 "metadata": {
  "kernelspec": {
   "display_name": "Python 3",
   "language": "python",
   "name": "python3"
  },
  "language_info": {
   "codemirror_mode": {
    "name": "ipython",
    "version": 3
   },
   "file_extension": ".py",
   "mimetype": "text/x-python",
   "name": "python",
   "nbconvert_exporter": "python",
   "pygments_lexer": "ipython3",
   "version": "3.5.1"
  }
 },
 "nbformat": 4,
 "nbformat_minor": 0
}
