{
 "cells": [
  {
   "cell_type": "markdown",
   "metadata": {},
   "source": [
    "ionize Tutorial\n",
    "==============="
   ]
  },
  {
   "cell_type": "markdown",
   "metadata": {},
   "source": [
    "**ionize** is a Python module for calculating the properties of ions in aqueous solution. \n",
    "\n",
    "To load the library, simply import **ionize**."
   ]
  },
  {
   "cell_type": "code",
   "execution_count": 1,
   "metadata": {
    "collapsed": false
   },
   "outputs": [],
   "source": [
    "import ionize\n",
    "\n",
    "# We'll also import numpy to set up some of our inputs. \n",
    "# And pprint to prettily print some lists.\n",
    "import numpy\n",
    "import pprint\n",
    "\n",
    "# And set up inline plotting.\n",
    "from matplotlib.pyplot import *\n",
    "%matplotlib inline"
   ]
  },
  {
   "cell_type": "markdown",
   "metadata": {},
   "source": [
    "Ion\n",
    "----\n",
    "The basic building block of an **ionize** simulation is an ionic species, modeled by the **Ion** class. Call **ionize**.**Ion**(*name*, *z*, *pKa*, *absolute_mobility*). *name* is the name of the ion, typically as a string. *z* is a list containing the charge states of the ion. *pKa* is a list of the pKas of the charge states, with the same order as the list *z*. *absolute_mobility* is a list containing the absolute, infinite dilution mobilities of each charge state, ordered the same as the other two lists, in units of m<sup>2</sup>V<sup>-1</sup>s<sup>-1</sup>."
   ]
  },
  {
   "cell_type": "code",
   "execution_count": 2,
   "metadata": {
    "collapsed": false
   },
   "outputs": [
    {
     "name": "stdout",
     "output_type": "stream",
     "text": [
      "Ion('myAcid', z=[-1])\n",
      "Ion('myBase', z=[1])\n"
     ]
    }
   ],
   "source": [
    "# Initialize an ion and print it. \n",
    "acid = ionize.Ion('myAcid', [-1], [5], [-25e-9])\n",
    "base = ionize.Ion('myBase', [1], [8], [20e-9])\n",
    "print acid\n",
    "print base"
   ]
  },
  {
   "cell_type": "markdown",
   "metadata": {},
   "source": [
    "Once an ion species is initialized, you can call the properties of the ion, typically as a function of pH and ionic strength. "
   ]
  },
  {
   "cell_type": "code",
   "execution_count": 3,
   "metadata": {
    "collapsed": false
   },
   "outputs": [
    {
     "name": "stdout",
     "output_type": "stream",
     "text": [
      "myAcid Ka at (I=0 M) = [1e-05]\n",
      "myAcid Ka at (I=0.5 M) = [1.77887701588421e-05]\n"
     ]
    },
    {
     "data": {
      "image/png": "[encoded data removed]",
      "text/plain": [
       "<matplotlib.figure.Figure at 0x1095a8550>"
      ]
     },
     "metadata": {},
     "output_type": "display_data"
    }
   ],
   "source": [
    "print 'myAcid Ka at (I=0 M) =', acid.Ka\n",
    "print 'myAcid Ka at (I=0.5 M) =', acid.Ka_eff(I=0.5)\n",
    "\n",
    "pH = numpy.linspace(0,14, 60)\n",
    "\n",
    "for I in [0, 0.1, 1]:\n",
    "    mu = [base.effective_mobility(p, I) for p in pH]\n",
    "    plot(pH, mu, label='I=' + str(I) + 'M')\n",
    "\n",
    "xlabel('pH'); xlim(0, 14)\n",
    "ylabel('effective mobility (m^2/v/s)'); ylim(-.1e-8, 2.1e-8)\n",
    "legend()\n",
    "show()"
   ]
  },
  {
   "cell_type": "markdown",
   "metadata": {},
   "source": [
    "## Using the **ionize** database\n",
    "\n",
    "### load_ion()\n",
    "Individually initializing ions is error-prone and time-consuming. To simplify the process, load ionic species from a database using the **load_ion** function. Call **ionize**.**load_ion**(*name*), where *name* is the case-insensitive full name of an ionic species. The function returns an Ion object, or *None* if the object is not available. "
   ]
  },
  {
   "cell_type": "code",
   "execution_count": 4,
   "metadata": {
    "collapsed": false
   },
   "outputs": [
    {
     "name": "stdout",
     "output_type": "stream",
     "text": [
      "Ion('histidine', z=[-1, 1, 2])\n",
      "2.03220441305e-10\n"
     ]
    },
    {
     "data": {
      "image/png": "[encoded data removed]",
      "text/plain": [
       "<matplotlib.figure.Figure at 0x109893090>"
      ]
     },
     "metadata": {},
     "output_type": "display_data"
    }
   ],
   "source": [
    "# print 'Returns', ionize.load_ion('ion not in database'), 'if not in database'\n",
    "# Loading an ion not in the database will now raise an error. \n",
    "\n",
    "histidine = ionize.load_ion('histidine')\n",
    "print histidine\n",
    "\n",
    "print ionize.load_ion('hydrochloric acid').diffusivity(8)\n",
    "\n",
    "mu_histidine = [histidine.effective_mobility(p) for p in pH]\n",
    "\n",
    "plot(pH, mu_histidine)\n",
    "xlabel('pH'); xlim([0, 14])\n",
    "ylabel('effective mobility (m^2/v/s)')\n",
    "show()"
   ]
  },
  {
   "cell_type": "markdown",
   "metadata": {},
   "source": [
    "### search_ion()\n",
    "\n",
    "You can also search for ions in the database by name using **search_ion()**. Call it by specifying a *search_string*. **search_ion()** will print the names of all ions that contain the *search_string*. **search_ion** will not return any results, so call **load_ion** when you find what you want. "
   ]
  },
  {
   "cell_type": "code",
   "execution_count": 5,
   "metadata": {
    "collapsed": false
   },
   "outputs": [
    {
     "name": "stdout",
     "output_type": "stream",
     "text": [
      "Search results for 'amino'\n",
      "--------------------------\n",
      "['2-amino-2-methyl-1-propanol',\n",
      " 'e-aminocaproic acid',\n",
      " 'o-aminobenzoic acid',\n",
      " 'p-aminobenzoic acid']\n",
      "\n",
      "Search results for 'chloric'\n",
      "---------------------------\n",
      "['chloric acid', 'hydrochloric acid', 'perchloric acid']\n",
      "\n",
      "Search results for 'per'\n",
      "------------------------\n",
      "['copper',\n",
      " 'diperodone',\n",
      " 'perchloric acid',\n",
      " 'periodic acid',\n",
      " 'permanganic acid',\n",
      " 'peroxysulfuric acid',\n",
      " 'perrhenic acid',\n",
      " 'piperidine']\n",
      "\n",
      "Oh, copper is what I was looking for.\n",
      "Ion('copper', z=[1, 2])\n"
     ]
    }
   ],
   "source": [
    "print \"Search results for 'amino'\\n--------------------------\"\n",
    "pprint.pprint(ionize.search_ion('amino'))\n",
    "print \"\\nSearch results for 'chloric'\\n---------------------------\"\n",
    "pprint.pprint(ionize.search_ion('chloric'))\n",
    "print \"\\nSearch results for 'per'\\n------------------------\"\n",
    "pprint.pprint(ionize.search_ion('per'))\n",
    "print '\\nOh, copper is what I was looking for.'\n",
    "print ionize.load_ion('copper')\n"
   ]
  },
  {
   "cell_type": "markdown",
   "metadata": {},
   "source": [
    "### get_db()\n",
    "You can also directly call the database used by both **load_ion** and **search_ion** using **get_db**. This returns the database as a dictionary."
   ]
  },
  {
   "cell_type": "code",
   "execution_count": 6,
   "metadata": {
    "collapsed": false
   },
   "outputs": [
    {
     "name": "stdout",
     "output_type": "stream",
     "text": [
      "508 ions in database.\n"
     ]
    }
   ],
   "source": [
    "    ion_list = ionize.get_db()\n",
    "    print len(ion_list), 'ions in database.'"
   ]
  },
  {
   "cell_type": "markdown",
   "metadata": {},
   "source": [
    "Solution\n",
    "--------\n",
    "Getting the properties of a single ionic species in solution is useful, but the real challenge of dealing with aqueous solutions of ions is finding properties based on the equilibrium state of multiple ionic species. **ionize** can perform those calculations using the **Solution** class. **Solution** objects are initialized using **ionize**.**Solution**(*ions*, *concentrations*), where ions is a list of **Ion** objects and concentration is a list concentrations of the ions, with concentrations in molar."
   ]
  },
  {
   "cell_type": "code",
   "execution_count": 7,
   "metadata": {
    "collapsed": false
   },
   "outputs": [
    {
     "name": "stdout",
     "output_type": "stream",
     "text": [
      "pH = 7.41765242093\n",
      "I = 0.0850003653403 M\n",
      "conductivity = 0.669136764442 S/m\n",
      "buffering capacity = 0.0295698033141 M\n",
      "debye length = 1.35140888463e-08 m\n"
     ]
    }
   ],
   "source": [
    "hcl=ionize.load_ion('hydrochloric acid')\n",
    "tris=ionize.load_ion('tris')\n",
    "buffer=ionize.Solution([tris, hcl], [0.1, 0.085])\n",
    "\n",
    "print 'pH =', buffer.pH\n",
    "print 'I =', buffer.I, 'M'\n",
    "print 'conductivity =', buffer.conductivity(), 'S/m'\n",
    "print 'buffering capacity =', buffer.buffering_capacity(), 'M'\n",
    "print 'debye length =', buffer.debye(), 'm'"
   ]
  },
  {
   "cell_type": "markdown",
   "metadata": {},
   "source": [
    "**Solutions** can be initialized with ion names instead of ions. If so, the **Solution** calls **load_ion** to determine the ion identities."
   ]
  },
  {
   "cell_type": "code",
   "execution_count": 8,
   "metadata": {
    "collapsed": false
   },
   "outputs": [
    {
     "name": "stdout",
     "output_type": "stream",
     "text": [
      "[Ion('bis-tris', z=[1]), Ion('acetic acid', z=[-1])]\n",
      "0.03\n"
     ]
    }
   ],
   "source": [
    "print ionize.Solution(['bis-tris', 'acetic acid'], [0.1, 0.03]).ions\n",
    "print ionize.Solution(['bis-tris', 'acetic acid'], [0.1, 0.03]).get_concentration(ionize.load_ion('acetic acid'))"
   ]
  },
  {
   "cell_type": "markdown",
   "metadata": {},
   "source": [
    "We can iterate through solutions to quickly calculate the pH of a titration between two ions"
   ]
  },
  {
   "cell_type": "code",
   "execution_count": 9,
   "metadata": {
    "collapsed": false
   },
   "outputs": [
    {
     "data": {
      "image/png": "[encoded data removed]",
      "text/plain": [
       "<matplotlib.figure.Figure at 0x1099dca10>"
      ]
     },
     "metadata": {},
     "output_type": "display_data"
    }
   ],
   "source": [
    "c_tris = 0.1\n",
    "c_hcl = numpy.linspace(0.0, 0.2, 50)\n",
    "t_pH = [ionize.Solution(['tris', 'hydrochloric acid'], [c_tris, c_h], T=25).pH for c_h in c_hcl]\n",
    "\n",
    "plot(c_hcl/c_tris, t_pH)\n",
    "xlabel('[HCl]/[Tris]')\n",
    "ylabel('pH')\n",
    "show()"
   ]
  },
  {
   "cell_type": "markdown",
   "metadata": {},
   "source": [
    "A **Solution** can also be initialized without ions, e.g. as water. "
   ]
  },
  {
   "cell_type": "code",
   "execution_count": 10,
   "metadata": {
    "collapsed": false
   },
   "outputs": [
    {
     "name": "stdout",
     "output_type": "stream",
     "text": [
      "I = 1e-07 M\n",
      "pH = 7.0\n",
      "conductivity = 5.47207623603e-06 S/m\n"
     ]
    }
   ],
   "source": [
    "water = ionize.Solution()\n",
    "print 'I =', water.I, 'M'\n",
    "print 'pH =', water.pH\n",
    "print 'conductivity =', water.conductivity(), 'S/m'"
   ]
  },
  {
   "cell_type": "markdown",
   "metadata": {},
   "source": [
    "A **Solution** can also be added and multiplied through operator overloading. This can be useful when calculating the results of diltuions, as below. "
   ]
  },
  {
   "cell_type": "code",
   "execution_count": 11,
   "metadata": {
    "collapsed": false
   },
   "outputs": [
    {
     "name": "stdout",
     "output_type": "stream",
     "text": [
      "Stock: Solution(pH=7.42, I=0.085 M)\n",
      "Dilution: Solution(pH=7.4, I=0.0425 M)\n"
     ]
    }
   ],
   "source": [
    "print 'Stock:', buffer\n",
    "dilution = 0.5 * buffer + 0.5 * water\n",
    "print 'Dilution:', dilution"
   ]
  },
  {
   "cell_type": "markdown",
   "metadata": {},
   "source": [
    "**Solutions** can be titrated to a specified pH. To do so, make a solution, and then specify a titrant, a property, and a target.  "
   ]
  },
  {
   "cell_type": "code",
   "execution_count": 12,
   "metadata": {
    "collapsed": false
   },
   "outputs": [],
   "source": [
    "buff = ionize.Solution([tris], 0.1)"
   ]
  },
  {
   "cell_type": "code",
   "execution_count": 13,
   "metadata": {
    "collapsed": false
   },
   "outputs": [
    {
     "name": "stdout",
     "output_type": "stream",
     "text": [
      "Solution(pH=8.2, I=0.0474 M)\n",
      "Solution(pH=3, I=0.101 M)\n",
      "Solution(pH=1.29, I=0.167 M)\n"
     ]
    },
    {
     "name": "stderr",
     "output_type": "stream",
     "text": [
      "ionize/Solution/__init__.py:110: UserWarning: Ionic strength > 1M. Ionic stregth correction may be inaccurate.\n",
      "  warnings.warn(('Ionic strength > 1M. '\n"
     ]
    }
   ],
   "source": [
    "print buff.titrate('hydrochloric acid', 8.2)\n",
    "print buff.titrate('hydrochloric acid', 3)\n",
    "print buff.titrate('hydrochloric acid', 3, titration_property = 'conductivity')\n"
   ]
  },
  {
   "cell_type": "markdown",
   "metadata": {},
   "source": [
    "Temperature Effects\n",
    "-------------------\n",
    "Both **Ion** objects and **Solution** objects take T as an optional argument for temperature. Temperature should be specified in degrees C. \n",
    "\n",
    "**Ion** objects adjust their absolute mobility and pKa attributes based on temperature. They also make adjustments to their ionic strength correction algorithms based on temperature. The type of temperature adjustment data depends on the specific ion. For small ions, emperical data from literature is included. For organic molecules, &Delta;H and &Delta;Cp values may be provided. All ions also correct their mobilities for viscosity. "
   ]
  },
  {
   "cell_type": "code",
   "execution_count": 14,
   "metadata": {
    "collapsed": false
   },
   "outputs": [
    {
     "name": "stderr",
     "output_type": "stream",
     "text": [
      "ionize/Ion/correct_pKa.py:20: UserWarning: No data available to correct pKa for temperature.\n",
      "  warnings.warn('No data available to correct pKa for temperature.')\n"
     ]
    },
    {
     "data": {
      "image/png": "[encoded data removed]",
      "text/plain": [
       "<matplotlib.figure.Figure at 0x1099f5450>"
      ]
     },
     "metadata": {},
     "output_type": "display_data"
    },
    {
     "data": {
      "image/png": "[encoded data removed]",
      "text/plain": [
       "<matplotlib.figure.Figure at 0x109966d10>"
      ]
     },
     "metadata": {},
     "output_type": "display_data"
    }
   ],
   "source": [
    "silver = ionize.load_ion('silver')\n",
    "tris = ionize.load_ion('tris').set_T(50)\n",
    "T = numpy.linspace(20.0, 80.0)\n",
    "mu_silver = [silver.set_T(Tp).absolute_mobility for Tp in T]\n",
    "mu_tris = [tris.set_T(Tp).absolute_mobility for Tp in T]\n",
    "pKa_silver = [silver.set_T(Tp).pKa for Tp in T]\n",
    "pKa_tris = [tris.set_T(Tp).pKa for Tp in T]\n",
    "\n",
    "figure()\n",
    "plot(T, mu_silver, label = 'Silver')\n",
    "plot(T, mu_tris, label = 'Tris')\n",
    "legend(loc = 'upper left')\n",
    "xlabel('Temperature ($^{\\circ}$C)'); ylabel('Absolute mobility ($m^2V^{-1}s^{-1}$)')\n",
    "show()\n",
    "figure()\n",
    "plot(T, pKa_silver, label = 'Silver')\n",
    "plot(T, pKa_tris, label = 'Tris')\n",
    "legend(loc = 'lower left')\n",
    "xlabel('Temperature ($^{\\circ}$C)'); ylabel('pKa')\n",
    "show()"
   ]
  },
  {
   "cell_type": "markdown",
   "metadata": {},
   "source": [
    "**Solution** objects send their temperature correction parameters to the object that they contain. In addition, they use the temperature input to correct their ionic strength correction parameters. "
   ]
  },
  {
   "cell_type": "code",
   "execution_count": 15,
   "metadata": {
    "collapsed": false
   },
   "outputs": [
    {
     "name": "stderr",
     "output_type": "stream",
     "text": [
      "ionize/Ion/correct_pKa.py:28: UserWarning: Using the van't Hoff correction for dT > 20 deg.\n",
      "  warnings.warn('Using the van\\'t Hoff correction for dT > 20 deg.')\n"
     ]
    },
    {
     "data": {
      "image/png": "[encoded data removed]",
      "text/plain": [
       "<matplotlib.figure.Figure at 0x10987ecd0>"
      ]
     },
     "metadata": {},
     "output_type": "display_data"
    },
    {
     "data": {
      "image/png": "[encoded data removed]",
      "text/plain": [
       "<matplotlib.figure.Figure at 0x109cc6d90>"
      ]
     },
     "metadata": {},
     "output_type": "display_data"
    }
   ],
   "source": [
    "buffer_ref = ionize.Solution(['tris', 'hydrochloric acid'], [.200, .100], T=25)\n",
    "mu_ref = buffer_ref.ions[1].effective_mobility()\n",
    "mup = []\n",
    "pH = []\n",
    "I = []\n",
    "mu=[]\n",
    "cond = []\n",
    "for Tp in T:\n",
    "    buffer = ionize.Solution([tris, hcl], [.200, .100], T=Tp)\n",
    "    mu.append(buffer.ions[1].effective_mobility())\n",
    "    mup.append(buffer.ions[1].effective_mobility()/mu_ref)\n",
    "    pH.append(buffer.pH)\n",
    "    I.append(buffer.I)\n",
    "    cond.append(buffer.conductivity())\n",
    "#     mup.append(hcl.nightingale_function(Tp))\n",
    "cond_norm = [c / cond[0] for c in cond]\n",
    "figure()\n",
    "plot(T, pH); xlabel('Temperature ($^{\\circ}$C)'); ylabel('pH')\n",
    "show()\n",
    "\n",
    "figure()\n",
    "plot(T, mup, label='chloride'); xlabel('Temperature ($^{\\circ}$C)'); ylabel('$\\mu$(T)/$\\mu$(T$_o$)'); legend(loc='upper left')\n",
    "show()"
   ]
  },
  {
   "cell_type": "markdown",
   "metadata": {},
   "source": [
    "Other Functions \n",
    "----------------\n",
    "**ionize** includes a few other functions that it uses internally to calculate corrections.\n",
    "### viscosity()\n",
    "Call **ionize**.**viscosity**(T) to find the viscosity of water at a given temperature. "
   ]
  },
  {
   "cell_type": "code",
   "execution_count": 16,
   "metadata": {
    "collapsed": false
   },
   "outputs": [
    {
     "ename": "AttributeError",
     "evalue": "'module' object has no attribute 'viscosity'",
     "output_type": "error",
     "traceback": [
      "\u001b[0;31m---------------------------------------------------------------------------\u001b[0m",
      "\u001b[0;31mAttributeError\u001b[0m                            Traceback (most recent call last)",
      "\u001b[0;32m<ipython-input-16-e85031c6b424>\u001b[0m in \u001b[0;36m<module>\u001b[0;34m()\u001b[0m\n\u001b[0;32m----> 1\u001b[0;31m \u001b[0mv\u001b[0m \u001b[0;34m=\u001b[0m \u001b[0;34m[\u001b[0m\u001b[0mionize\u001b[0m\u001b[0;34m.\u001b[0m\u001b[0mviscosity\u001b[0m\u001b[0;34m(\u001b[0m\u001b[0mt\u001b[0m\u001b[0;34m)\u001b[0m \u001b[0;32mfor\u001b[0m \u001b[0mt\u001b[0m \u001b[0;32min\u001b[0m \u001b[0mT\u001b[0m\u001b[0;34m]\u001b[0m\u001b[0;34m\u001b[0m\u001b[0m\n\u001b[0m\u001b[1;32m      2\u001b[0m \u001b[0mplot\u001b[0m\u001b[0;34m(\u001b[0m\u001b[0mT\u001b[0m\u001b[0;34m,\u001b[0m\u001b[0mv\u001b[0m\u001b[0;34m)\u001b[0m\u001b[0;34m;\u001b[0m \u001b[0mshow\u001b[0m\u001b[0;34m(\u001b[0m\u001b[0;34m)\u001b[0m\u001b[0;34m\u001b[0m\u001b[0m\n",
      "\u001b[0;31mAttributeError\u001b[0m: 'module' object has no attribute 'viscosity'"
     ]
    }
   ],
   "source": [
    "v = [ionize.viscosity(t) for t in T]\n",
    "plot(T,v); show()"
   ]
  },
  {
   "cell_type": "markdown",
   "metadata": {},
   "source": [
    "### dielectric()\n",
    "Call **ionize**.**dielectric**(T) to find the dielectric constant of water at a given temperature."
   ]
  },
  {
   "cell_type": "code",
   "execution_count": null,
   "metadata": {
    "collapsed": false
   },
   "outputs": [],
   "source": [
    "d = [ionize.dielectric(t) for t in T]\n",
    "plot(T,d); show()"
   ]
  },
  {
   "cell_type": "markdown",
   "metadata": {},
   "source": [
    "Conservation Functions\n",
    "--------------------\n",
    "Conservation functions are spatially invariant quantities that remain constant as a solution undergoes electrophoresis. They are useful in calculating ion concentrations in zones formed during electrophoresis. \n",
    "\n",
    "### The Kohlrausch Regulating Function (KRF)\n",
    "The most basic conservation function is the KRF. This function is only valid for strongly ionized species, when water dissociation doesn't play a strong role. Solutions can calculate their own KRF values. They throw a warning if they contain species that are not strongly ionized."
   ]
  },
  {
   "cell_type": "code",
   "execution_count": null,
   "metadata": {
    "collapsed": false
   },
   "outputs": [],
   "source": [
    "saltwater = ionize.Solution(['sodium', 'hydrochloric acid'], [0.1, 0.1])\n",
    "print saltwater.kohlrausch()"
   ]
  },
  {
   "cell_type": "code",
   "execution_count": null,
   "metadata": {
    "collapsed": false
   },
   "outputs": [],
   "source": [
    "print buffer_ref.ions\n",
    "print buffer_ref.kohlrausch()"
   ]
  },
  {
   "cell_type": "markdown",
   "metadata": {},
   "source": [
    "### The Alberty Conservation Function\n",
    "\n",
    "The Alberty conservation function is useful for weakly ionized monovalent species, when water dissocation doesn't play a strong role. "
   ]
  },
  {
   "cell_type": "code",
   "execution_count": null,
   "metadata": {
    "collapsed": false
   },
   "outputs": [],
   "source": [
    "tcap = ionize.Solution(['tris', 'caproic acid'], [0.1, 0.05])\n",
    "print tcap.alberty()\n"
   ]
  },
  {
   "cell_type": "code",
   "execution_count": null,
   "metadata": {
    "collapsed": false
   },
   "outputs": [],
   "source": [
    "tcit = ionize.Solution(['tris', 'citric acid'], [0.1, 0.05])\n",
    "print tcit.alberty()"
   ]
  },
  {
   "cell_type": "markdown",
   "metadata": {},
   "source": [
    "### The Jovin Conservation Function\n",
    "\n",
    "The Jovin conservation function is applicable under the same conditions that the Alberty conservation function is. It is often used as a compliment."
   ]
  },
  {
   "cell_type": "code",
   "execution_count": null,
   "metadata": {
    "collapsed": false
   },
   "outputs": [],
   "source": [
    "print tcap.jovin()"
   ]
  },
  {
   "cell_type": "code",
   "execution_count": null,
   "metadata": {
    "collapsed": false
   },
   "outputs": [],
   "source": [
    "print tcit.jovin()"
   ]
  },
  {
   "cell_type": "markdown",
   "metadata": {},
   "source": [
    "### The Gas Conservation Functions"
   ]
  },
  {
   "cell_type": "code",
   "execution_count": null,
   "metadata": {
    "collapsed": false
   },
   "outputs": [],
   "source": [
    "print tcap.gas()\n",
    "print tcit.gas()"
   ]
  },
  {
   "cell_type": "markdown",
   "metadata": {},
   "source": [
    "### Serialization, Saving, and Loading\n",
    "You can also save and load ions and solutions in JSON format."
   ]
  },
  {
   "cell_type": "code",
   "execution_count": null,
   "metadata": {
    "collapsed": false
   },
   "outputs": [],
   "source": [
    "pprint.pprint(tcap.serialize())\n",
    "tcap.save('tris_caproic.json')"
   ]
  }
 ],
 "metadata": {
  "kernelspec": {
   "display_name": "Python 2",
   "language": "python",
   "name": "python2"
  },
  "language_info": {
   "codemirror_mode": {
    "name": "ipython",
    "version": 2
   },
   "file_extension": ".py",
   "mimetype": "text/x-python",
   "name": "python",
   "nbconvert_exporter": "python",
   "pygments_lexer": "ipython2",
   "version": "2.7.10"
  }
 },
 "nbformat": 4,
 "nbformat_minor": 0
}
