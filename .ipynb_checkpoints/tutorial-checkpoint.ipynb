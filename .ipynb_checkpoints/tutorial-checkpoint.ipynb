{
 "metadata": {
  "name": "",
  "signature": "sha256:4f8046908485e29429266c5c44e14780792300890bf2c5246a30df78866a96ed"
 },
 "nbformat": 3,
 "nbformat_minor": 0,
 "worksheets": [
  {
   "cells": [
    {
     "cell_type": "markdown",
     "metadata": {},
     "source": [
      "ionize Tutorial\n",
      "==============="
     ]
    },
    {
     "cell_type": "code",
     "collapsed": false,
     "input": [
      "import ionize\n",
      "import matplotlib.pyplot as plt\n",
      "import numpy"
     ],
     "language": "python",
     "metadata": {},
     "outputs": [],
     "prompt_number": 1
    },
    {
     "cell_type": "markdown",
     "metadata": {},
     "source": [
      "*ionize* is a python package for calculating the properties of ions in aqueous solution. It is based on the techniques used in software packages including Peakmaster, Spresso, and STEEP. However, in this implementation the same software can be tied into large python programs that search parameter spaces and plot results. \n",
      "\n",
      "Ion\n",
      "----\n",
      "An ion species is initialized by calling ionize.Ion(*name*, *z*, *pKa*, *absolute_mobility*), where *name* is the name of the ion, *z* is a list containing the charge states of the ion, *pKa* is a list of the pKas of the charge states, with the same order as the list *z*, and *absolute_mobility* is a list containing the absolute, infinite dilution mobilities of each charge state, ordered the same as the other two lists, in units of "
     ]
    },
    {
     "cell_type": "code",
     "collapsed": false,
     "input": [
      "acid=ionize.Ion('myAcid', [-1], [3], [-20e-9])\n",
      "print acid"
     ],
     "language": "python",
     "metadata": {},
     "outputs": [
      {
       "output_type": "stream",
       "stream": "stdout",
       "text": [
        "Ion object -- myAcid: {-1: (3, -2e-08)}\n"
       ]
      }
     ],
     "prompt_number": 2
    },
    {
     "cell_type": "markdown",
     "metadata": {},
     "source": [
      "Once an ion species is initialized, you can call the properties of the ion, typically as a funciton of pH and ionic strength. "
     ]
    },
    {
     "cell_type": "code",
     "collapsed": false,
     "input": [
      "print 'Ka at (I=0 M) =', acid.Ka()\n",
      "print 'Ka at (I=0.5 M) =', acid.Ka_eff(I=0.5)\n",
      "pH=numpy.linspace(0,15, 60)\n",
      "mu=[acid.effective_mobility(p) for p in pH]\n",
      "plt.plot(pH, mu)\n",
      "plt.xlabel('pH')\n",
      "plt.ylabel('effective mobility (m^2/v/s)')\n",
      "plt.show()"
     ],
     "language": "python",
     "metadata": {},
     "outputs": [
      {
       "output_type": "stream",
       "stream": "stdout",
       "text": [
        "Ka at (I=0 M) = [0.001]\n",
        "Ka at (I=0.5 M) = [0.001991250619018433]\n"
       ]
      },
      {
       "metadata": {},
       "output_type": "display_data",
       "png": "[encoded data removed]",
       "text": [
        "<matplotlib.figure.Figure at 0x10a693610>"
       ]
      }
     ],
     "prompt_number": 3
    },
    {
     "cell_type": "markdown",
     "metadata": {},
     "source": [
      "load_ion\n",
      "--------\n",
      "Individually initializing ions based on their properties can be time consuming. Typically, it is easier to use the load_ion function. This function takes the name of an ion, and returns the Ion object. The function returns *None* if hte object is not available. "
     ]
    },
    {
     "cell_type": "code",
     "collapsed": false,
     "input": [
      "histidine = ionize.load_ion('histidine')\n",
      "print histidine\n",
      "mu_histidine = [histidine.effective_mobility(p) for p in pH]\n",
      "plt.plot(pH, mu_histidine)\n",
      "plt.show()"
     ],
     "language": "python",
     "metadata": {},
     "outputs": [
      {
       "output_type": "stream",
       "stream": "stdout",
       "text": [
        "Ion object -- histidine: {1: (6.04, 2.8800000000000003e-08), 2: (2.0, 4.47e-08), -1: (9.33, -2.8300000000000002e-08)}\n"
       ]
      },
      {
       "metadata": {},
       "output_type": "display_data",
       "png": "[encoded data removed]",
       "text": [
        "<matplotlib.figure.Figure at 0x10a6f3990>"
       ]
      }
     ],
     "prompt_number": 6
    },
    {
     "cell_type": "code",
     "collapsed": false,
     "input": [],
     "language": "python",
     "metadata": {},
     "outputs": []
    }
   ],
   "metadata": {}
  }
 ]
}