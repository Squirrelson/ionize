{
 "metadata": {
  "name": "",
  "signature": "sha256:d42c32b20a8a5fffd67a49cdedfa98796f156a1eeb646fd2ff76f36a18577085"
 },
 "nbformat": 3,
 "nbformat_minor": 0,
 "worksheets": []
}