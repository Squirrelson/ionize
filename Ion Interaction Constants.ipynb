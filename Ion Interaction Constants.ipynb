{
 "cells": [
  {
   "cell_type": "markdown",
   "metadata": {},
   "source": [
    "Ion Interaction\n",
    "========\n",
    "Ion interaction effects are important for correcting the mobility of ions based on the ionic strength of solution. These effects are laid out in the *Irreversible Processes in Electrohoresis*, by Onsager and Fuoss. \n",
    "\n",
    "These effects have prefactors that need to be converted to appropriate units for use. Here, I'm going to resolve the units on these prefactors, and resolve the differences between the paper and the STEEP implimentation.\n"
   ]
  },
  {
   "cell_type": "code",
   "execution_count": 22,
   "metadata": {
    "collapsed": true
   },
   "outputs": [],
   "source": [
    "from ionize.constants import *\n",
    "from ionize import Aqueous\n",
    "from math import sqrt, pi"
   ]
  },
  {
   "cell_type": "markdown",
   "metadata": {},
   "source": [
    "Robinson-Stokes\n",
    "---------------"
   ]
  },
  {
   "cell_type": "code",
   "execution_count": 15,
   "metadata": {
    "collapsed": false
   },
   "outputs": [
    {
     "name": "stdout",
     "output_type": "stream",
     "text": [
      "820192.606062 4.27487794004e-09\n"
     ]
    }
   ],
   "source": [
    "# STEEP: F*0.2297*z.*omega+31.410e-9\n",
    "dielectric = Aqueous.dielectric(reference_temperature)\n",
    "viscosity = Aqueous.viscosity(reference_temperature)\n",
    "coefficient_1 = 0.2297 * sqrt(kelvin(reference_temperature)*dielectric)**3.\n",
    "coefficient_2 = 31.410e-9 * viscosity * sqrt(kelvin(reference_temperature)*dielectric)\n",
    "\n",
    "print coefficient_1, coefficient_2"
   ]
  },
  {
   "cell_type": "markdown",
   "metadata": {},
   "source": [
    "Onsager-Fuoss\n",
    "------------"
   ]
  },
  {
   "cell_type": "code",
   "execution_count": 16,
   "metadata": {
    "collapsed": false
   },
   "outputs": [
    {
     "name": "stdout",
     "output_type": "stream",
     "text": [
      "2800152.55409 4.27487794004e-09\n"
     ]
    }
   ],
   "source": [
    "# STEEP: F*0.78420*z.*factor.*omega+31.410e-9\n",
    "dielectric = Aqueous.dielectric(reference_temperature)\n",
    "viscosity = Aqueous.viscosity(reference_temperature)\n",
    "coefficient_1 = 0.78420 * sqrt(kelvin(reference_temperature)*dielectric)**3.\n",
    "coefficient_2 = 31.410e-9 * viscosity * sqrt(kelvin(reference_temperature)*dielectric)\n",
    "\n",
    "print coefficient_1, coefficient_2"
   ]
  },
  {
   "cell_type": "code",
   "execution_count": 54,
   "metadata": {
    "collapsed": false
   },
   "outputs": [
    {
     "name": "stdout",
     "output_type": "stream",
     "text": [
      "0.780632750184\n",
      "6.33486292963e-07\n",
      "3.0452981704e-08\n"
     ]
    }
   ],
   "source": [
    "# Onsager-Fuoss Paper\n",
    "coefficient_1 = 1.971e6 \n",
    "print coefficient_1/ sqrt(dielectric * kelvin(reference_temperature))**3. * sqrt(2)\n",
    "coefficient_2 = 28.98 * sqrt(2) * faraday * elementary_charge*1000*1000\n",
    "print coefficient_2\n",
    "print coefficient_2 / viscosity / (dielectric * kelvin(reference_temperature)) "
   ]
  },
  {
   "cell_type": "code",
   "execution_count": 29,
   "metadata": {
    "collapsed": false
   },
   "outputs": [
    {
     "name": "stdout",
     "output_type": "stream",
     "text": [
      "0.024830260145\n"
     ]
    }
   ],
   "source": [
    "# Bhaga Paper\n",
    "coefficient_1 = elementary_charge**3./ 12. / pi * \\\n",
    "    sqrt(2. * avogadro / (dielectric * permittivity * boltzmann * kelvin(reference_temperature))**3.)\n",
    "print coefficient_1"
   ]
  },
  {
   "cell_type": "code",
   "execution_count": 31,
   "metadata": {
    "collapsed": false
   },
   "outputs": [
    {
     "name": "stdout",
     "output_type": "stream",
     "text": [
      "7.02352584719e-10\n"
     ]
    }
   ],
   "source": [
    "coefficient_2 = elementary_charge**2 / 6 / viscosity / pi * \\\n",
    "    sqrt(avogadro / (dielectric * permittivity * boltzmann * kelvin(reference_temperature)))\n",
    "print coefficient_2"
   ]
  },
  {
   "cell_type": "markdown",
   "metadata": {},
   "source": [
    "Pitts\n",
    "-----"
   ]
  },
  {
   "cell_type": "code",
   "execution_count": 43,
   "metadata": {
    "collapsed": false
   },
   "outputs": [
    {
     "name": "stdout",
     "output_type": "stream",
     "text": [
      "9.6091957727e-09\n"
     ]
    }
   ],
   "source": [
    "D = sqrt(2 * elementary_charge**2 * avogadro / dielectric / permittivity / boltzmann / kelvin(reference_temperature))\n",
    "print 1/D"
   ]
  },
  {
   "cell_type": "code",
   "execution_count": null,
   "metadata": {
    "collapsed": true
   },
   "outputs": [],
   "source": []
  }
 ],
 "metadata": {
  "kernelspec": {
   "display_name": "Python 2",
   "language": "python",
   "name": "python2"
  },
  "language_info": {
   "codemirror_mode": {
    "name": "ipython",
    "version": 2
   },
   "file_extension": ".py",
   "mimetype": "text/x-python",
   "name": "python",
   "nbconvert_exporter": "python",
   "pygments_lexer": "ipython2",
   "version": "2.7.10"
  }
 },
 "nbformat": 4,
 "nbformat_minor": 0
}
