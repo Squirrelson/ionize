{
 "cells": [
  {
   "cell_type": "markdown",
   "metadata": {},
   "source": [
    "ionize Tutorial\n",
    "===============\n",
    "**ionize** is a Python module for calculating the properties of ions and electrolyte solutions. "
   ]
  },
  {
   "cell_type": "code",
   "execution_count": 16,
   "metadata": {
    "collapsed": true
   },
   "outputs": [],
   "source": [
    "# Setup\n",
    "from __future__ import print_function, absolute_import, division\n",
    "import ionize\n",
    "import pprint\n",
    "\n",
    "from matplotlib import pyplot as plot\n",
    "%matplotlib inline\n",
    "\n",
    "import numpy as np\n",
    "np.set_printoptions(precision=3)"
   ]
  },
  {
   "cell_type": "markdown",
   "metadata": {},
   "source": [
    "Ions\n",
    "----\n",
    "The basic building block that ionize is the a single ionic species. Small ions (as opposed to ion complexes or polyions) are represented by the **Ion** class. \n",
    "\n",
    "An Ion has the following properties that can be set on initialization. \n",
    "\n",
    "- name\n",
    "- valence (as an interable of integers)\n",
    "- reference_pKa (as an iterable of floats)\n",
    "- reference_mobility (as an interable of floats, in m^2/V/s)\n",
    "- reference_temperature, the temperature at which other parameters are measured, in degC (default = 25 degC)\n",
    "- enthalpy, the change in enthalpy on ionization, as an interable, in J/mol/K\n",
    "- heat_capacity, the change in heat_capacity on ionization, as an iterable, in J/mol/K^2\n",
    "- molecular_weight, in Daltons\n",
    "- alias, an iterable of alternate names\n",
    "- nightingale_data, data fitting change in mobility with temperature\n",
    "\n",
    "Only the name, valence, pKa, and mobility are required parameters. All other parameters are optional."
   ]
  },
  {
   "cell_type": "code",
   "execution_count": 9,
   "metadata": {
    "collapsed": false
   },
   "outputs": [
    {
     "name": "stdout",
     "output_type": "stream",
     "text": [
      "Ion('myAcid')\n",
      "Ion(valence=[1], nightingale_data=None, molecular_weight=None, reference_pKa=[8.0], enthalpy=None, heat_capacity=None, reference_temperature=25.0, name='myBase', reference_mobility=[2e-08], alias=None)\n"
     ]
    }
   ],
   "source": [
    "acid = ionize.Ion('myAcid', [-1], [5], [-25e-9])\n",
    "base = ionize.Ion('myBase', [1], [8], [20e-9])\n",
    "print(acid)        # The string includes only the class and name.\n",
    "print(repr(base))  # The representation contains enough information to reconstruct the ion. "
   ]
  },
  {
   "cell_type": "markdown",
   "metadata": {},
   "source": [
    "The guranteed interfaces of ion species are:\n",
    "- charge(pH, ionic_strength, temperature)\n",
    "    - Return the charge per ion at the specified condition\n",
    "- mobility(pH, ionic_strength, temperature)\n",
    "    - Return the effective mobility in m^2/V/s at the specified conditions\n",
    "- diffusivity(pH, ionic_strength, temperature)\n",
    "    - Return the diffusivity in m^2/s for the ion\n",
    "- molar_conductivity(pH, ionic_strength, temperature)\n",
    "    - Return the molar conductivity in S/M\n",
    "- separability(other, pH, ionic_strength, temperature)\n",
    "    - Return the separability between the ion and another ion at the specified condition.\n",
    "- serialize(nested, compact)\n",
    "    - Return a serialized JSON representation. \n",
    "- save(filename)\n",
    "    - Save the ion to a file in JSON format.\n",
    "    \n",
    "In addition, BaseIon subclasses usually have some unique interfaced. "
   ]
  },
  {
   "cell_type": "code",
   "execution_count": 10,
   "metadata": {
    "collapsed": false
   },
   "outputs": [
    {
     "name": "stdout",
     "output_type": "stream",
     "text": [
      "myAcid Ka at (I=0 M) = [  1.001e-05]\n",
      "myAcid Ka at (I=0.5 M) = [  1.781e-05]\n"
     ]
    },
    {
     "name": "stderr",
     "output_type": "stream",
     "text": [
      "/Users/lewis/Documents/github/ionize/ionize/Ion/mobility.py:44: UserWarning: Insufficient information for Onsager-Fuoss correction to mobility. Returning the Robinson-Stokes approximation.\n",
      "  warnings.warn(\"Insufficient information for Onsager-Fuoss \"\n"
     ]
    },
    {
     "data": {
      "image/png": "[encoded data removed]",
      "text/plain": [
       "<matplotlib.figure.Figure at 0x10c813780>"
      ]
     },
     "metadata": {},
     "output_type": "display_data"
    }
   ],
   "source": [
    "print('myAcid Ka at (I=0 M) =', acid.acidity())\n",
    "print('myAcid Ka at (I=0.5 M) =', acid.acidity(ionic_strength=0.5))\n",
    "\n",
    "pH = numpy.linspace(0,14)\n",
    "\n",
    "for I in [None, 0., 0.001, 0.01, 0.1]:\n",
    "    mu = [base.mobility(p, I) for p in pH]\n",
    "    if I is not None:\n",
    "        label = 'I={} M'.format(I)\n",
    "    else:\n",
    "        label = 'I=None'\n",
    "    plot.plot(pH, mu, label=label)\n",
    "\n",
    "plot.xlabel('pH'); plot.xlim(0, 14)\n",
    "plot.ylabel('effective mobility (m^2/v/s)'); plot.ylim(-.1e-8, 2.1e-8)\n",
    "plot.legend()\n",
    "plot.show()"
   ]
  },
  {
   "cell_type": "markdown",
   "metadata": {},
   "source": [
    "Note the difference between ionic_strength parameters here. If ionic_strength is 0, the numerical value of 0 is used in each calculation. However, it is impossible to have a solution of pH 0 with ionic_strength of 0. \n",
    "\n",
    "When the default value of None is used for ionic_strength, ionize uses the minimum ionic strength at the selected pH. "
   ]
  },
  {
   "cell_type": "markdown",
   "metadata": {},
   "source": [
    "**ionize** database\n",
    "---------------------------\n",
    "\n",
    "Individually initializing ions is error-prone and time-consuming. To simplify the process, load ions from \n",
    "the database by initializing the database, and accessing the database like a dictionary. "
   ]
  },
  {
   "cell_type": "code",
   "execution_count": 14,
   "metadata": {
    "collapsed": false
   },
   "outputs": [
    {
     "name": "stdout",
     "output_type": "stream",
     "text": [
      "Ion(valence=[-1, 1, 2], nightingale_data=None, molecular_weight=155.15, reference_pKa=[9.33, 6.04, 2.0], enthalpy=[43800.0, 29500.0, 3600.0], heat_capacity=[-233.0, 176.0, 0.0], reference_temperature=25.0, name='histidine', reference_mobility=[-2.8300000000000002e-08, 2.8800000000000003e-08, 4.47e-08], alias=None)\n"
     ]
    },
    {
     "name": "stderr",
     "output_type": "stream",
     "text": [
      "/Users/lewis/Documents/github/ionize/ionize/Ion/mobility.py:44: UserWarning: Insufficient information for Onsager-Fuoss correction to mobility. Returning the Robinson-Stokes approximation.\n",
      "  warnings.warn(\"Insufficient information for Onsager-Fuoss \"\n"
     ]
    },
    {
     "data": {
      "image/png": "[encoded data removed]",
      "text/plain": [
       "<matplotlib.figure.Figure at 0x10c7e41d0>"
      ]
     },
     "metadata": {},
     "output_type": "display_data"
    }
   ],
   "source": [
    "db = ionize.Database()\n",
    "histidine = db['histidine']\n",
    "print(repr(histidine))\n",
    "\n",
    "for ionic_strength in (None, 0):\n",
    "    mu_histidine = [histidine.mobility(p, ionic_strength=ionic_strength) for p in pH]\n",
    "    plot.plot(pH, mu_histidine, label=\"I={}\".format(ionic_strength))\n",
    "    \n",
    "plot.xlabel('pH'); plot.xlim([0, 14])\n",
    "plot.ylabel('effective mobility (m^2/v/s)')\n",
    "plot.legend()\n",
    "plot.show()"
   ]
  },
  {
   "cell_type": "markdown",
   "metadata": {},
   "source": [
    "### search()\n",
    "\n",
    "You can also search for ions in the database by name using **search()** method of Database. search() will return a list of ion names, so load the ion when you find what you want. "
   ]
  },
  {
   "cell_type": "code",
   "execution_count": 15,
   "metadata": {
    "collapsed": false
   },
   "outputs": [
    {
     "name": "stdout",
     "output_type": "stream",
     "text": [
      "Search results for 'amino'\n",
      "--------------------------\n",
      "('2-amino-2-methyl-1-propanol',\n",
      " 'e-aminocaproic acid',\n",
      " 'gamma-aminobutyric acid',\n",
      " 'o-aminobenzoic acid',\n",
      " 'p-aminobenzoic acid')\n",
      "\n",
      "Search results for 'chloric'\n",
      "----------------------------\n",
      "('chloric acid', 'hydrochloric acid', 'perchloric acid')\n",
      "\n",
      "Search results for 'per'\n",
      "------------------------\n",
      "('copper',\n",
      " 'diperodone',\n",
      " 'perchloric acid',\n",
      " 'periodic acid',\n",
      " 'permanganic acid',\n",
      " 'peroxysulfuric acid',\n",
      " 'perrhenic acid',\n",
      " 'piperidine')\n",
      "\n",
      "Oh, copper is what I was looking for.\n",
      "Ion('copper')\n"
     ]
    }
   ],
   "source": [
    "print(\"Search results for 'amino'\\n--------------------------\")\n",
    "pprint.pprint(db.search('amino'))\n",
    "print(\"\\nSearch results for 'chloric'\\n----------------------------\")\n",
    "pprint.pprint(db.search('chloric'))\n",
    "print(\"\\nSearch results for 'per'\\n------------------------\")\n",
    "pprint.pprint(db.search('per'))\n",
    "print('\\nOh, copper is what I was looking for.')\n",
    "print(db.load('copper'))"
   ]
  },
  {
   "cell_type": "code",
   "execution_count": null,
   "metadata": {
    "collapsed": true
   },
   "outputs": [],
   "source": []
  }
 ],
 "metadata": {
  "kernelspec": {
   "display_name": "Python 3",
   "language": "python",
   "name": "python3"
  },
  "language_info": {
   "codemirror_mode": {
    "name": "ipython",
    "version": 3
   },
   "file_extension": ".py",
   "mimetype": "text/x-python",
   "name": "python",
   "nbconvert_exporter": "python",
   "pygments_lexer": "ipython3",
   "version": "3.5.1"
  }
 },
 "nbformat": 4,
 "nbformat_minor": 0
}
