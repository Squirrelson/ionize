{
 "metadata": {
  "name": "",
  "signature": "sha256:917b42fad05bc4a269695345644cbbdc8bf1b2430e36b388054b46e9a611db49"
 },
 "nbformat": 3,
 "nbformat_minor": 0,
 "worksheets": [
  {
   "cells": [
    {
     "cell_type": "code",
     "collapsed": false,
     "input": [
      "import ionize\n",
      "import numpy"
     ],
     "language": "python",
     "metadata": {},
     "outputs": [],
     "prompt_number": 1
    },
    {
     "cell_type": "code",
     "collapsed": false,
     "input": [
      "t = numpy.linspace(20, 90, 100)\n",
      "print t"
     ],
     "language": "python",
     "metadata": {},
     "outputs": [
      {
       "output_type": "stream",
       "stream": "stdout",
       "text": [
        "[ 20.          20.70707071  21.41414141  22.12121212  22.82828283\n",
        "  23.53535354  24.24242424  24.94949495  25.65656566  26.36363636\n",
        "  27.07070707  27.77777778  28.48484848  29.19191919  29.8989899\n",
        "  30.60606061  31.31313131  32.02020202  32.72727273  33.43434343\n",
        "  34.14141414  34.84848485  35.55555556  36.26262626  36.96969697\n",
        "  37.67676768  38.38383838  39.09090909  39.7979798   40.50505051\n",
        "  41.21212121  41.91919192  42.62626263  43.33333333  44.04040404\n",
        "  44.74747475  45.45454545  46.16161616  46.86868687  47.57575758\n",
        "  48.28282828  48.98989899  49.6969697   50.4040404   51.11111111\n",
        "  51.81818182  52.52525253  53.23232323  53.93939394  54.64646465\n",
        "  55.35353535  56.06060606  56.76767677  57.47474747  58.18181818\n",
        "  58.88888889  59.5959596   60.3030303   61.01010101  61.71717172\n",
        "  62.42424242  63.13131313  63.83838384  64.54545455  65.25252525\n",
        "  65.95959596  66.66666667  67.37373737  68.08080808  68.78787879\n",
        "  69.49494949  70.2020202   70.90909091  71.61616162  72.32323232\n",
        "  73.03030303  73.73737374  74.44444444  75.15151515  75.85858586\n",
        "  76.56565657  77.27272727  77.97979798  78.68686869  79.39393939\n",
        "  80.1010101   80.80808081  81.51515152  82.22222222  82.92929293\n",
        "  83.63636364  84.34343434  85.05050505  85.75757576  86.46464646\n",
        "  87.17171717  87.87878788  88.58585859  89.29292929  90.        ]\n"
       ]
      }
     ],
     "prompt_number": 5
    },
    {
     "cell_type": "code",
     "collapsed": false,
     "input": [
      "namedict = {\n",
      "        'hydrochloric acid': 'Nightingale_Cl_data.txt',\n",
      "        'sodium': 'Nightingale_Na.txt',\n",
      "        'potassium': 'Nightingale_K_data.txt',\n",
      "        'lithium': 'Nightingale_Li_data.txt',\n",
      "        'magnesium': 'Nightingale_Mg_data.txt',\n",
      "        'perchloric acid': 'Nightingale_Perchlorate_data.txt',\n",
      "        'rubidium': 'Nightingale_Rb and Cs _data.txt',\n",
      "        'cesium': 'Nightingale_Rb and Cs _data.txt',\n",
      "        'calcium': 'Nightingale_Rb and Cs _data.txt',\n",
      "        'silver': 'Nightingale_Ag_data.txt',\n",
      "        'sulfuric acid': 'Nightingale_Sulfate_data.txt'\n",
      "    }"
     ],
     "language": "python",
     "metadata": {},
     "outputs": [],
     "prompt_number": 3
    },
    {
     "cell_type": "code",
     "collapsed": false,
     "input": [
      "for ion in ['magnesium', 'sulfuric acid', 'calcium']:\n",
      "    try:\n",
      "        m = [ionize.load_ion(ion).set_T(tp).absolute_mobility for tp in t]\n",
      "        plot(t,m, label=ion)\n",
      "    except:\n",
      "        print ion\n",
      "legend(loc = 'right')\n",
      "show()"
     ],
     "language": "python",
     "metadata": {},
     "outputs": [
      {
       "output_type": "stream",
       "stream": "stderr",
       "text": [
        "ionize/Ion/correct_pKa.py:20: UserWarning: No data available to correct pKa for temperature.\n",
        "  warnings.warn('No data available to correct pKa for temperature.')\n"
       ]
      },
      {
       "metadata": {},
       "output_type": "display_data",
       "png": "[encoded data removed]",
       "text": [
        "<matplotlib.figure.Figure at 0x10bde4210>"
       ]
      }
     ],
     "prompt_number": 4
    },
    {
     "cell_type": "code",
     "collapsed": false,
     "input": [],
     "language": "python",
     "metadata": {},
     "outputs": [],
     "prompt_number": 4
    }
   ],
   "metadata": {}
  }
 ]
}